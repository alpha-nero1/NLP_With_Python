{
 "cells": [
  {
   "cell_type": "code",
   "execution_count": 1,
   "id": "885d95d6",
   "metadata": {},
   "outputs": [],
   "source": [
    "library = [('Author', 'Topic', 'Pages'), ('Twain', 'Rafting', 601), ('Feynman', 'Physics', 95), ('Hamilton', 'Mythology', 144)]"
   ]
  },
  {
   "cell_type": "code",
   "execution_count": 2,
   "id": "0ba4150d",
   "metadata": {},
   "outputs": [
    {
     "data": {
      "text/plain": [
       "[('Author', 'Topic', 'Pages'),\n",
       " ('Twain', 'Rafting', 601),\n",
       " ('Feynman', 'Physics', 95),\n",
       " ('Hamilton', 'Mythology', 144)]"
      ]
     },
     "execution_count": 2,
     "metadata": {},
     "output_type": "execute_result"
    }
   ],
   "source": [
    "library"
   ]
  },
  {
   "cell_type": "code",
   "execution_count": 4,
   "id": "f1e4e992",
   "metadata": {},
   "outputs": [
    {
     "name": "stdout",
     "output_type": "stream",
     "text": [
      "Author is Author\n",
      "Author is Twain\n",
      "Author is Feynman\n",
      "Author is Hamilton\n"
     ]
    }
   ],
   "source": [
    "for author, topic, pages in library: print(f'Author is {author}')"
   ]
  },
  {
   "cell_type": "code",
   "execution_count": 5,
   "id": "c7873b10",
   "metadata": {},
   "outputs": [
    {
     "name": "stdout",
     "output_type": "stream",
     "text": [
      "Author is Author     topic is Topic     \n",
      "Author is Twain      topic is Rafting   \n",
      "Author is Feynman    topic is Physics   \n",
      "Author is Hamilton   topic is Mythology \n"
     ]
    }
   ],
   "source": [
    "# Great f string formatting!!\n",
    "for author, topic, pages in library: print(f'Author is {author:{10}} topic is {topic:{10}}')"
   ]
  },
  {
   "cell_type": "code",
   "execution_count": 6,
   "id": "4bb5a383",
   "metadata": {},
   "outputs": [
    {
     "name": "stdout",
     "output_type": "stream",
     "text": [
      "Author is Author     topic is Topic      Pages is      Pages\n",
      "Author is Twain      topic is Rafting    Pages is        601\n",
      "Author is Feynman    topic is Physics    Pages is         95\n",
      "Author is Hamilton   topic is Mythology  Pages is        144\n"
     ]
    }
   ],
   "source": [
    "# Great f string formatting!!\n",
    "for author, topic, pages in library: print(f'Author is {author:{10}} topic is {topic:{10}} Pages is {pages:>{10}}')"
   ]
  },
  {
   "cell_type": "code",
   "execution_count": 7,
   "id": "e99dd07a",
   "metadata": {},
   "outputs": [
    {
     "name": "stdout",
     "output_type": "stream",
     "text": [
      "Author is Author     topic is Topic      Pages is -----Pages\n",
      "Author is Twain      topic is Rafting    Pages is -------601\n",
      "Author is Feynman    topic is Physics    Pages is --------95\n",
      "Author is Hamilton   topic is Mythology  Pages is -------144\n"
     ]
    }
   ],
   "source": [
    "for author, topic, pages in library: print(f'Author is {author:{10}} topic is {topic:{10}} Pages is {pages:->{10}}')"
   ]
  },
  {
   "cell_type": "code",
   "execution_count": 8,
   "id": "6ea7cd21",
   "metadata": {},
   "outputs": [],
   "source": [
    "from datetime import datetime"
   ]
  },
  {
   "cell_type": "code",
   "execution_count": 9,
   "id": "6a322a36",
   "metadata": {},
   "outputs": [],
   "source": [
    "today = datetime(year=2019, month=2, day=28)"
   ]
  },
  {
   "cell_type": "code",
   "execution_count": 10,
   "id": "d28dc0af",
   "metadata": {},
   "outputs": [
    {
     "name": "stdout",
     "output_type": "stream",
     "text": [
      "2019-02-28 00:00:00\n"
     ]
    }
   ],
   "source": [
    "print(f'{today}')"
   ]
  },
  {
   "cell_type": "code",
   "execution_count": 11,
   "id": "e6d26dba",
   "metadata": {},
   "outputs": [
    {
     "name": "stdout",
     "output_type": "stream",
     "text": [
      "February\n"
     ]
    }
   ],
   "source": [
    "# strftime.org\n",
    "print(f'{today:%B}')"
   ]
  },
  {
   "cell_type": "code",
   "execution_count": 12,
   "id": "737b0038",
   "metadata": {},
   "outputs": [
    {
     "name": "stdout",
     "output_type": "stream",
     "text": [
      "February 28\n"
     ]
    }
   ],
   "source": [
    "# strftime.org\n",
    "print(f'{today:%B %d}')"
   ]
  },
  {
   "cell_type": "code",
   "execution_count": 14,
   "id": "3228f8f1",
   "metadata": {},
   "outputs": [
    {
     "name": "stdout",
     "output_type": "stream",
     "text": [
      "February 28, 2019\n"
     ]
    }
   ],
   "source": [
    "# strftime.org\n",
    "print(f'{today:%B %d, %Y}')"
   ]
  },
  {
   "cell_type": "code",
   "execution_count": null,
   "id": "ffaeb404",
   "metadata": {},
   "outputs": [],
   "source": []
  }
 ],
 "metadata": {
  "kernelspec": {
   "display_name": "Python 3 (ipykernel)",
   "language": "python",
   "name": "python3"
  },
  "language_info": {
   "codemirror_mode": {
    "name": "ipython",
    "version": 3
   },
   "file_extension": ".py",
   "mimetype": "text/x-python",
   "name": "python",
   "nbconvert_exporter": "python",
   "pygments_lexer": "ipython3",
   "version": "3.11.4"
  }
 },
 "nbformat": 4,
 "nbformat_minor": 5
}
