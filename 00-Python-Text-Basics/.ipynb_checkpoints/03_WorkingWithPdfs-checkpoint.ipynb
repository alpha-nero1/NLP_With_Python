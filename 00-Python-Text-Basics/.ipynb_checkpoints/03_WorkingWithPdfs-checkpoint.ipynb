{
 "cells": [
  {
   "cell_type": "code",
   "execution_count": 2,
   "id": "b733da0f",
   "metadata": {},
   "outputs": [
    {
     "name": "stdout",
     "output_type": "stream",
     "text": [
      "sss\n"
     ]
    }
   ],
   "source": [
    "import PyPDF2\n",
    "print('sss')"
   ]
  },
  {
   "cell_type": "code",
   "execution_count": 3,
   "id": "2e727382",
   "metadata": {},
   "outputs": [],
   "source": [
    "myfile = open('US_Declaration.pdf', mode='rb') # Read in binary method."
   ]
  },
  {
   "cell_type": "code",
   "execution_count": 5,
   "id": "f7cb9a32",
   "metadata": {},
   "outputs": [],
   "source": [
    "# Convert to pdf file reader obj\n",
    "pdf_reader = PyPDF2.PdfReader(myfile)"
   ]
  },
  {
   "cell_type": "code",
   "execution_count": null,
   "id": "4030a637",
   "metadata": {},
   "outputs": [],
   "source": [
    "pdf_reader."
   ]
  }
 ],
 "metadata": {
  "kernelspec": {
   "display_name": "Python 3 (ipykernel)",
   "language": "python",
   "name": "python3"
  },
  "language_info": {
   "codemirror_mode": {
    "name": "ipython",
    "version": 3
   },
   "file_extension": ".py",
   "mimetype": "text/x-python",
   "name": "python",
   "nbconvert_exporter": "python",
   "pygments_lexer": "ipython3",
   "version": "3.11.4"
  }
 },
 "nbformat": 4,
 "nbformat_minor": 5
}
