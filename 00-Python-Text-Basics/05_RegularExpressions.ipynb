{
 "cells": [
  {
   "cell_type": "code",
   "execution_count": 1,
   "id": "1119bf94",
   "metadata": {},
   "outputs": [
    {
     "data": {
      "text/plain": [
       "True"
      ]
     },
     "execution_count": 1,
     "metadata": {},
     "output_type": "execute_result"
    }
   ],
   "source": [
    "\"phone\" in \"phone is right here\""
   ]
  },
  {
   "cell_type": "code",
   "execution_count": 2,
   "id": "ccf23cff",
   "metadata": {},
   "outputs": [
    {
     "data": {
      "text/plain": [
       "True"
      ]
     },
     "execution_count": 2,
     "metadata": {},
     "output_type": "execute_result"
    }
   ],
   "source": [
    "\"408\" in \"Hello the Number is 408\""
   ]
  },
  {
   "cell_type": "code",
   "execution_count": 3,
   "id": "3c6b26ff",
   "metadata": {},
   "outputs": [
    {
     "data": {
      "text/plain": [
       "'\\\\d{3}-\\\\d{3}-\\\\d{4}'"
      ]
     },
     "execution_count": 3,
     "metadata": {},
     "output_type": "execute_result"
    }
   ],
   "source": [
    "# digit = \\d\n",
    "r'\\d{3}-\\d{3}-\\d{4}'"
   ]
  },
  {
   "cell_type": "code",
   "execution_count": 4,
   "id": "cb3adb99",
   "metadata": {},
   "outputs": [],
   "source": [
    "text = \"The number of the agent is 04662744004. Call soon!\""
   ]
  },
  {
   "cell_type": "code",
   "execution_count": 5,
   "id": "592b25a1",
   "metadata": {},
   "outputs": [
    {
     "data": {
      "text/plain": [
       "False"
      ]
     },
     "execution_count": 5,
     "metadata": {},
     "output_type": "execute_result"
    }
   ],
   "source": [
    "\"phone\" in text"
   ]
  },
  {
   "cell_type": "code",
   "execution_count": 6,
   "id": "0279f568",
   "metadata": {},
   "outputs": [
    {
     "data": {
      "text/plain": [
       "True"
      ]
     },
     "execution_count": 6,
     "metadata": {},
     "output_type": "execute_result"
    }
   ],
   "source": [
    "\"number\" in text"
   ]
  },
  {
   "cell_type": "code",
   "execution_count": 7,
   "id": "c52a1f23",
   "metadata": {},
   "outputs": [],
   "source": [
    "# Import!\n",
    "import re"
   ]
  },
  {
   "cell_type": "code",
   "execution_count": 23,
   "id": "9cb5d17e",
   "metadata": {},
   "outputs": [],
   "source": [
    "pattern = \"number\""
   ]
  },
  {
   "cell_type": "code",
   "execution_count": 16,
   "id": "ae252e94",
   "metadata": {},
   "outputs": [],
   "source": [
    "re.search(pattern, text)"
   ]
  },
  {
   "cell_type": "code",
   "execution_count": 24,
   "id": "32c675f3",
   "metadata": {},
   "outputs": [],
   "source": [
    "mymatch = re.search(pattern, text)"
   ]
  },
  {
   "cell_type": "code",
   "execution_count": 25,
   "id": "08c5bbb5",
   "metadata": {},
   "outputs": [
    {
     "name": "stdout",
     "output_type": "stream",
     "text": [
      "<re.Match object; span=(4, 10), match='number'>\n"
     ]
    }
   ],
   "source": [
    "print(mymatch)"
   ]
  },
  {
   "cell_type": "code",
   "execution_count": 26,
   "id": "90789b02",
   "metadata": {},
   "outputs": [
    {
     "data": {
      "text/plain": [
       "(4, 10)"
      ]
     },
     "execution_count": 26,
     "metadata": {},
     "output_type": "execute_result"
    }
   ],
   "source": [
    "mymatch.span()"
   ]
  },
  {
   "cell_type": "code",
   "execution_count": 27,
   "id": "a20ac280",
   "metadata": {},
   "outputs": [],
   "source": [
    "text = \"my phone is a new phone\""
   ]
  },
  {
   "cell_type": "code",
   "execution_count": 28,
   "id": "dd65e31f",
   "metadata": {},
   "outputs": [],
   "source": [
    "mymatch_2 = re.search(\"phone\", text)"
   ]
  },
  {
   "cell_type": "code",
   "execution_count": 29,
   "id": "e64b4186",
   "metadata": {},
   "outputs": [
    {
     "data": {
      "text/plain": [
       "(3, 8)"
      ]
     },
     "execution_count": 29,
     "metadata": {},
     "output_type": "execute_result"
    }
   ],
   "source": [
    "# Will only find the first instance!\n",
    "mymatch_2.span()"
   ]
  },
  {
   "cell_type": "code",
   "execution_count": 30,
   "id": "17b96b62",
   "metadata": {},
   "outputs": [],
   "source": [
    "# We will need to use find all to get all!\n",
    "mymatch_3 = re.findall(\"phone\", text)"
   ]
  },
  {
   "cell_type": "code",
   "execution_count": 31,
   "id": "594b7fe0",
   "metadata": {},
   "outputs": [
    {
     "data": {
      "text/plain": [
       "['phone', 'phone']"
      ]
     },
     "execution_count": 31,
     "metadata": {},
     "output_type": "execute_result"
    }
   ],
   "source": [
    "mymatch_3"
   ]
  },
  {
   "cell_type": "code",
   "execution_count": 33,
   "id": "73d46861",
   "metadata": {},
   "outputs": [
    {
     "name": "stdout",
     "output_type": "stream",
     "text": [
      "(3, 8)\n",
      "(18, 23)\n"
     ]
    }
   ],
   "source": [
    "for match in re.finditer(\"phone\", text): print(match.span())"
   ]
  },
  {
   "cell_type": "code",
   "execution_count": 34,
   "id": "67ecc974",
   "metadata": {},
   "outputs": [
    {
     "data": {
      "text/plain": [
       "'my phone is a new phone'"
      ]
     },
     "execution_count": 34,
     "metadata": {},
     "output_type": "execute_result"
    }
   ],
   "source": [
    "text"
   ]
  },
  {
   "cell_type": "code",
   "execution_count": 35,
   "id": "a33f0fca",
   "metadata": {},
   "outputs": [],
   "source": [
    "text = \"my number is 044-055-7777\""
   ]
  },
  {
   "cell_type": "code",
   "execution_count": 36,
   "id": "6855759e",
   "metadata": {},
   "outputs": [],
   "source": [
    "pattern = r'\\d{3}-\\d{3}-\\d{4}'"
   ]
  },
  {
   "cell_type": "code",
   "execution_count": 37,
   "id": "e7a6f26c",
   "metadata": {},
   "outputs": [],
   "source": [
    "phone_num = re.search(pattern, text)"
   ]
  },
  {
   "cell_type": "code",
   "execution_count": 43,
   "id": "e749da00",
   "metadata": {},
   "outputs": [
    {
     "data": {
      "text/plain": [
       "'044-055-7777'"
      ]
     },
     "execution_count": 43,
     "metadata": {},
     "output_type": "execute_result"
    }
   ],
   "source": [
    "# Groups together all it found\n",
    "phone_num.group()"
   ]
  },
  {
   "cell_type": "code",
   "execution_count": 46,
   "id": "5b7d2904",
   "metadata": {},
   "outputs": [
    {
     "data": {
      "text/plain": [
       "['044-066-7777', '033-055-1111']"
      ]
     },
     "execution_count": 46,
     "metadata": {},
     "output_type": "execute_result"
    }
   ],
   "source": [
    "# {3} is a quantifier looking for exactly 3\n",
    "numbers = 'The numbers are 044-066-7777 and 033-055-1111'\n",
    "pattern = r'\\d{3}-\\d{3}-\\d{4}'\n",
    "phone_numbers = re.findall(pattern, numbers)\n",
    "phone_numbers"
   ]
  },
  {
   "cell_type": "code",
   "execution_count": 47,
   "id": "f4159978",
   "metadata": {},
   "outputs": [],
   "source": [
    "# Groups!\n",
    "pattern_groups = r'(\\d{3})-(\\d{3})-(\\d{4})'"
   ]
  },
  {
   "cell_type": "code",
   "execution_count": 48,
   "id": "496d637b",
   "metadata": {},
   "outputs": [],
   "source": [
    "match_2 = re.search(pattern_groups, numbers)"
   ]
  },
  {
   "cell_type": "code",
   "execution_count": 60,
   "id": "81f61421",
   "metadata": {},
   "outputs": [
    {
     "data": {
      "text/plain": [
       "'7777'"
      ]
     },
     "execution_count": 60,
     "metadata": {},
     "output_type": "execute_result"
    }
   ],
   "source": [
    "# Maybe we only wanted the last digits...\n",
    "match_2.group(3)"
   ]
  },
  {
   "cell_type": "code",
   "execution_count": 61,
   "id": "70df9fa9",
   "metadata": {},
   "outputs": [
    {
     "data": {
      "text/plain": [
       "['cat', 'fat', 'hat', 'sat']"
      ]
     },
     "execution_count": 61,
     "metadata": {},
     "output_type": "execute_result"
    }
   ],
   "source": [
    "re.findall(r\".at\", \"cat fat hat sat\")"
   ]
  },
  {
   "cell_type": "code",
   "execution_count": 62,
   "id": "eaf98881",
   "metadata": {},
   "outputs": [
    {
     "data": {
      "text/plain": [
       "['2']"
      ]
     },
     "execution_count": 62,
     "metadata": {},
     "output_type": "execute_result"
    }
   ],
   "source": [
    "re.findall(r\"\\d$\", \"This ends with the number2\")"
   ]
  },
  {
   "cell_type": "code",
   "execution_count": 64,
   "id": "e7c101e9",
   "metadata": {},
   "outputs": [
    {
     "data": {
      "text/plain": [
       "['2']"
      ]
     },
     "execution_count": 64,
     "metadata": {},
     "output_type": "execute_result"
    }
   ],
   "source": [
    "re.findall(r\"^\\d\", \"2This ends with the number\")"
   ]
  },
  {
   "cell_type": "code",
   "execution_count": 65,
   "id": "0ee9a2aa",
   "metadata": {},
   "outputs": [],
   "source": [
    "phrase = \"There are 3 numbers 34 inside this sentence 10\""
   ]
  },
  {
   "cell_type": "code",
   "execution_count": 68,
   "id": "657d4175",
   "metadata": {},
   "outputs": [
    {
     "data": {
      "text/plain": [
       "['There are ', ' numbers ', ' inside this sentence ']"
      ]
     },
     "execution_count": 68,
     "metadata": {},
     "output_type": "execute_result"
    }
   ],
   "source": [
    "re.findall(r\"[^\\d]+\", phrase) # [] = exclude"
   ]
  },
  {
   "cell_type": "code",
   "execution_count": 69,
   "id": "7b3f5617",
   "metadata": {},
   "outputs": [],
   "source": [
    "text = \"We have this over-stated sentence\""
   ]
  },
  {
   "cell_type": "code",
   "execution_count": 72,
   "id": "2efae8af",
   "metadata": {},
   "outputs": [
    {
     "data": {
      "text/plain": [
       "['over-stated']"
      ]
     },
     "execution_count": 72,
     "metadata": {},
     "output_type": "execute_result"
    }
   ],
   "source": [
    "re.findall(r\"\\w+-\\w+\", text)"
   ]
  },
  {
   "cell_type": "code",
   "execution_count": null,
   "id": "5bc5135b",
   "metadata": {},
   "outputs": [],
   "source": []
  }
 ],
 "metadata": {
  "kernelspec": {
   "display_name": "Python 3 (ipykernel)",
   "language": "python",
   "name": "python3"
  },
  "language_info": {
   "codemirror_mode": {
    "name": "ipython",
    "version": 3
   },
   "file_extension": ".py",
   "mimetype": "text/x-python",
   "name": "python",
   "nbconvert_exporter": "python",
   "pygments_lexer": "ipython3",
   "version": "3.11.3"
  }
 },
 "nbformat": 4,
 "nbformat_minor": 5
}
