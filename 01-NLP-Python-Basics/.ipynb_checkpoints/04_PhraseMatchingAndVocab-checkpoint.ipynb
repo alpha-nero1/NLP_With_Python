{
 "cells": [
  {
   "cell_type": "code",
   "execution_count": 1,
   "id": "9501395a",
   "metadata": {},
   "outputs": [],
   "source": [
    "import spacy"
   ]
  },
  {
   "cell_type": "code",
   "execution_count": 2,
   "id": "c700ab15",
   "metadata": {},
   "outputs": [],
   "source": [
    "nlp = spacy.load('en_core_web_sm')"
   ]
  },
  {
   "cell_type": "code",
   "execution_count": 3,
   "id": "142e4b30",
   "metadata": {},
   "outputs": [],
   "source": [
    "# Rule base matching...\n",
    "from spacy.matcher import Matcher"
   ]
  },
  {
   "cell_type": "code",
   "execution_count": 4,
   "id": "93766e98",
   "metadata": {},
   "outputs": [],
   "source": [
    "matcher = Matcher(nlp.vocab) # Pairs to the current vocab object."
   ]
  },
  {
   "cell_type": "code",
   "execution_count": 10,
   "id": "ed4c6204",
   "metadata": {},
   "outputs": [],
   "source": [
    "# Detect if appears as one word, with dash in the middle or two words\n",
    "pattern1 = [{'LOWER': 'solarpower'}]\n",
    "pattern2 = [{'LOWER': 'solar'}, {'IS_PUNCT': True}, {'LOWER': 'power'}]\n",
    "pattern3 = [{'LOWER': 'solar'}, {'LOWER': 'power'}]"
   ]
  },
  {
   "cell_type": "code",
   "execution_count": 11,
   "id": "44ef4ad2",
   "metadata": {},
   "outputs": [],
   "source": [
    "matcher.add('SolarPowerMatcher', [pattern1, pattern2, pattern3])"
   ]
  },
  {
   "cell_type": "code",
   "execution_count": 12,
   "id": "dff5381b",
   "metadata": {},
   "outputs": [],
   "source": [
    "doc = nlp(u'The Solar power industry continues to grow as solar power increases. Solar-Power is amazeballs')"
   ]
  },
  {
   "cell_type": "code",
   "execution_count": 16,
   "id": "bbd9c447",
   "metadata": {},
   "outputs": [
    {
     "data": {
      "text/plain": [
       "[(6604624467252227415, 1, 3),\n",
       " (6604624467252227415, 8, 10),\n",
       " (6604624467252227415, 12, 15)]"
      ]
     },
     "execution_count": 16,
     "metadata": {},
     "output_type": "execute_result"
    }
   ],
   "source": [
    "matches = matcher(doc) # Start and stop is on the tokens!\n",
    "matches"
   ]
  },
  {
   "cell_type": "code",
   "execution_count": 22,
   "id": "c82c7a41",
   "metadata": {},
   "outputs": [
    {
     "data": {
      "text/plain": [
       "'SolarPowerMatcher'"
      ]
     },
     "execution_count": 22,
     "metadata": {},
     "output_type": "execute_result"
    }
   ],
   "source": [
    "nlp.vocab.strings[matches[0][0]]"
   ]
  },
  {
   "cell_type": "code",
   "execution_count": 23,
   "id": "e4b51b10",
   "metadata": {},
   "outputs": [],
   "source": [
    "matcher.remove('SolarPowerMatcher')"
   ]
  },
  {
   "cell_type": "code",
   "execution_count": 24,
   "id": "74d6c949",
   "metadata": {},
   "outputs": [],
   "source": [
    "patterns = [\n",
    "    # SolarPower\n",
    "    [{'LOWER': 'solarpower'}],\n",
    "    # solar.power\n",
    "    [{'LOWER': 'solar'}, {'IS_PUNCT': True}, {'OP': '*'}, {'LOWER':'power'}]\n",
    "]"
   ]
  },
  {
   "cell_type": "code",
   "execution_count": 25,
   "id": "01241511",
   "metadata": {},
   "outputs": [],
   "source": [
    "matcher.add('SolarPower', patterns)"
   ]
  },
  {
   "cell_type": "code",
   "execution_count": 26,
   "id": "70130a60",
   "metadata": {},
   "outputs": [],
   "source": [
    "doc2 = nlp(u'Solar--power is Solar Power Yeah')"
   ]
  },
  {
   "cell_type": "code",
   "execution_count": 27,
   "id": "00418a78",
   "metadata": {},
   "outputs": [],
   "source": [
    "found_matches = matcher(doc2)"
   ]
  },
  {
   "cell_type": "code",
   "execution_count": 28,
   "id": "c1d65078",
   "metadata": {},
   "outputs": [
    {
     "data": {
      "text/plain": [
       "[(8656102463236116519, 0, 3), (8656102463236116519, 0, 6)]"
      ]
     },
     "execution_count": 28,
     "metadata": {},
     "output_type": "execute_result"
    }
   ],
   "source": [
    "found_matches"
   ]
  },
  {
   "cell_type": "code",
   "execution_count": 30,
   "id": "63fedb1d",
   "metadata": {},
   "outputs": [],
   "source": [
    "# Match on lemmatisation.\n",
    "from spacy.matcher import PhraseMatcher"
   ]
  },
  {
   "cell_type": "code",
   "execution_count": 31,
   "id": "35b7f7b0",
   "metadata": {},
   "outputs": [],
   "source": [
    "matcher = PhraseMatcher(nlp.vocab)"
   ]
  },
  {
   "cell_type": "code",
   "execution_count": 58,
   "id": "56802d27",
   "metadata": {},
   "outputs": [],
   "source": [
    "with open('../TextFiles/reaganomics.txt') as file:\n",
    "    doc3 = nlp(file.read())\n"
   ]
  },
  {
   "cell_type": "code",
   "execution_count": 59,
   "id": "c1019858",
   "metadata": {},
   "outputs": [],
   "source": [
    "phrase_list = ['voodo economics', 'supply-side economics', 'trickle-down economics', 'reaganomics']\n"
   ]
  },
  {
   "cell_type": "code",
   "execution_count": 60,
   "id": "12165d62",
   "metadata": {},
   "outputs": [],
   "source": [
    "phrase_patterns = [nlp(text) for text in phrase_list]"
   ]
  },
  {
   "cell_type": "code",
   "execution_count": 52,
   "id": "ef4ffb9f",
   "metadata": {},
   "outputs": [
    {
     "data": {
      "text/plain": [
       "[voodo economics, supply-side economics, trickle-down economics, reaganomics]"
      ]
     },
     "execution_count": 52,
     "metadata": {},
     "output_type": "execute_result"
    }
   ],
   "source": [
    "phrase_patterns"
   ]
  },
  {
   "cell_type": "code",
   "execution_count": 42,
   "id": "150bcbe6",
   "metadata": {},
   "outputs": [
    {
     "data": {
      "text/plain": [
       "spacy.tokens.doc.Doc"
      ]
     },
     "execution_count": 42,
     "metadata": {},
     "output_type": "execute_result"
    }
   ],
   "source": [
    "type(phrase_patterns[0])"
   ]
  },
  {
   "cell_type": "code",
   "execution_count": 61,
   "id": "44bbeea1",
   "metadata": {},
   "outputs": [],
   "source": [
    "matcher.add('EconMatcher', phrase_patterns)"
   ]
  },
  {
   "cell_type": "code",
   "execution_count": 62,
   "id": "973c72fe",
   "metadata": {},
   "outputs": [],
   "source": [
    "# Build a list of matches.\n",
    "found_matches = matcher(doc3)"
   ]
  },
  {
   "cell_type": "code",
   "execution_count": 63,
   "id": "e328f0a3",
   "metadata": {},
   "outputs": [
    {
     "data": {
      "text/plain": [
       "[(3680293220734633682, 41, 45),\n",
       " (3680293220734633682, 49, 53),\n",
       " (3680293220734633682, 673, 677),\n",
       " (3680293220734633682, 2990, 2994)]"
      ]
     },
     "execution_count": 63,
     "metadata": {},
     "output_type": "execute_result"
    }
   ],
   "source": [
    "found_matches"
   ]
  },
  {
   "cell_type": "code",
   "execution_count": 57,
   "id": "cf73e4cd",
   "metadata": {},
   "outputs": [
    {
     "data": {
      "text/plain": [
       "''"
      ]
     },
     "execution_count": 57,
     "metadata": {},
     "output_type": "execute_result"
    }
   ],
   "source": [
    "doc3.text"
   ]
  },
  {
   "cell_type": "code",
   "execution_count": null,
   "id": "ba51f810",
   "metadata": {},
   "outputs": [],
   "source": []
  }
 ],
 "metadata": {
  "kernelspec": {
   "display_name": "Python 3 (ipykernel)",
   "language": "python",
   "name": "python3"
  },
  "language_info": {
   "codemirror_mode": {
    "name": "ipython",
    "version": 3
   },
   "file_extension": ".py",
   "mimetype": "text/x-python",
   "name": "python",
   "nbconvert_exporter": "python",
   "pygments_lexer": "ipython3",
   "version": "3.11.3"
  }
 },
 "nbformat": 4,
 "nbformat_minor": 5
}
