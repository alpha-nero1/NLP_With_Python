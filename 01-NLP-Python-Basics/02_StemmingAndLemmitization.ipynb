{
 "cells": [
  {
   "cell_type": "code",
   "execution_count": 3,
   "id": "a2cbeb6c",
   "metadata": {},
   "outputs": [],
   "source": [
    "import nltk"
   ]
  },
  {
   "cell_type": "code",
   "execution_count": 4,
   "id": "2643d99d",
   "metadata": {},
   "outputs": [],
   "source": [
    "from nltk.stem.porter import PorterStemmer"
   ]
  },
  {
   "cell_type": "code",
   "execution_count": 5,
   "id": "195d6f6b",
   "metadata": {},
   "outputs": [],
   "source": [
    "p_stemmer = PorterStemmer()"
   ]
  },
  {
   "cell_type": "code",
   "execution_count": 14,
   "id": "7a54a661",
   "metadata": {},
   "outputs": [],
   "source": [
    "words = ['run', 'runner', 'ran', 'runs', 'easily', 'fairly', 'fairness']"
   ]
  },
  {
   "cell_type": "code",
   "execution_count": 9,
   "id": "b730dc09",
   "metadata": {},
   "outputs": [
    {
     "name": "stdout",
     "output_type": "stream",
     "text": [
      "run--- >run\n",
      "runner--- >runner\n",
      "ran--- >ran\n",
      "runs--- >run\n",
      "easily--- >easili\n",
      "fairly--- >fairli\n"
     ]
    }
   ],
   "source": [
    "for word in words: print(word + '--- >' + p_stemmer.stem(word))"
   ]
  },
  {
   "cell_type": "code",
   "execution_count": 11,
   "id": "103c14e6",
   "metadata": {},
   "outputs": [],
   "source": [
    "from nltk.stem.snowball import SnowballStemmer"
   ]
  },
  {
   "cell_type": "code",
   "execution_count": 12,
   "id": "5b61e458",
   "metadata": {},
   "outputs": [],
   "source": [
    "s_stemmer = SnowballStemmer(language='english')"
   ]
  },
  {
   "cell_type": "code",
   "execution_count": 15,
   "id": "0cf54235",
   "metadata": {},
   "outputs": [
    {
     "name": "stdout",
     "output_type": "stream",
     "text": [
      "run--- >run\n",
      "runner--- >runner\n",
      "ran--- >ran\n",
      "runs--- >run\n",
      "easily--- >easili\n",
      "fairly--- >fair\n",
      "fairness--- >fair\n"
     ]
    }
   ],
   "source": [
    "for word in words: print(word + '--- >' + s_stemmer.stem(word))"
   ]
  },
  {
   "cell_type": "code",
   "execution_count": 16,
   "id": "fdd634e2",
   "metadata": {},
   "outputs": [],
   "source": [
    "# Lemma!\n",
    "import spacy"
   ]
  },
  {
   "cell_type": "code",
   "execution_count": 18,
   "id": "ab3eb9f4",
   "metadata": {},
   "outputs": [],
   "source": [
    "nlp = spacy.load('en_core_web_sm')"
   ]
  },
  {
   "cell_type": "code",
   "execution_count": 19,
   "id": "365be2e6",
   "metadata": {},
   "outputs": [],
   "source": [
    "doc1 = nlp(u'I am a runner in a race because I run every day as a runner')"
   ]
  },
  {
   "cell_type": "code",
   "execution_count": 22,
   "id": "085fc832",
   "metadata": {},
   "outputs": [
    {
     "name": "stdout",
     "output_type": "stream",
     "text": [
      "I \t PRON \t 4690420944186131903 \t I\n",
      "am \t AUX \t 10382539506755952630 \t be\n",
      "a \t DET \t 11901859001352538922 \t a\n",
      "runner \t NOUN \t 12640964157389618806 \t runner\n",
      "in \t ADP \t 3002984154512732771 \t in\n",
      "a \t DET \t 11901859001352538922 \t a\n",
      "race \t NOUN \t 8048469955494714898 \t race\n",
      "because \t SCONJ \t 16950148841647037698 \t because\n",
      "I \t PRON \t 4690420944186131903 \t I\n",
      "run \t VERB \t 12767647472892411841 \t run\n",
      "every \t DET \t 2739543297294151269 \t every\n",
      "day \t NOUN \t 1608482186128794349 \t day\n",
      "as \t ADP \t 7437575085468336610 \t as\n",
      "a \t DET \t 11901859001352538922 \t a\n",
      "runner \t NOUN \t 12640964157389618806 \t runner\n"
     ]
    }
   ],
   "source": [
    "for token in doc1: print(token.text, '\\t', token.pos_, '\\t', token.lemma, '\\t', token.lemma_)"
   ]
  },
  {
   "cell_type": "code",
   "execution_count": 23,
   "id": "3012bdd3",
   "metadata": {},
   "outputs": [],
   "source": [
    "def show_lemmas(text):\n",
    "    for token in text:\n",
    "        print(f'{token.text:{12}} {token.pos_:{6}} {token.lemma:<{22}} {token.lemma_}')"
   ]
  },
  {
   "cell_type": "code",
   "execution_count": 24,
   "id": "65cb583e",
   "metadata": {},
   "outputs": [],
   "source": [
    "doc3 = nlp(u'I saw 10 mice today')"
   ]
  },
  {
   "cell_type": "code",
   "execution_count": 25,
   "id": "336ad153",
   "metadata": {},
   "outputs": [
    {
     "name": "stdout",
     "output_type": "stream",
     "text": [
      "I            PRON   4690420944186131903    I\n",
      "saw          VERB   11925638236994514241   see\n",
      "10           NUM    6572986864102252890    10\n",
      "mice         NOUN   1384165645700560590    mouse\n",
      "today        NOUN   11042482332948150395   today\n"
     ]
    }
   ],
   "source": [
    "show_lemmas(doc3)"
   ]
  },
  {
   "cell_type": "code",
   "execution_count": 26,
   "id": "a94c831b",
   "metadata": {},
   "outputs": [],
   "source": [
    "# Stop word examples = a, the ... They are just noise really"
   ]
  },
  {
   "cell_type": "code",
   "execution_count": 27,
   "id": "90e4c3e1",
   "metadata": {},
   "outputs": [
    {
     "name": "stdout",
     "output_type": "stream",
     "text": [
      "{'amongst', 'but', 'again', 'has', 'sometimes', 'once', 'name', 'something', 'became', 'empty', 'formerly', 'wherein', 'everything', 'seemed', '‘s', 'almost', 'move', 'much', 'us', 'must', 'full', 'whereas', 'keep', 'using', 'which', 'himself', 'is', 'one', 'his', '’s', 'during', 'with', 'thereafter', 'was', 'becoming', 'all', 'this', 'someone', 'make', 'across', 'my', 'as', 'hundred', 'seem', \"'ll\", 'whoever', 'whole', 'further', 'seeming', 'except', 'now', 'then', 'toward', 'am', 'done', 'beside', 'have', '‘ll', 'although', 'whereafter', 'whose', 'what', 'already', 'side', 'such', 'their', \"'s\", 'besides', 'quite', 'for', 'they', 'seems', 'he', 'ten', 'a', '’ll', 'too', 'without', 'none', 'being', 'back', 'somehow', 'whom', 'be', 'regarding', 'herself', 'eleven', 'yours', 'whenever', 'may', 'every', 'through', 'while', 're', 'next', 'anyway', 'anyone', 'just', 'fifty', 'that', 'alone', 'itself', 'against', 'whether', 'any', 'among', 'sixty', 'some', \"'ve\", 'everyone', 'put', 'an', 'eight', 'them', 'ours', 'therein', 'via', 'even', 'though', 'these', 'few', '‘d', 'thereupon', 'six', 'were', 'same', '’ve', 'about', 'between', '’m', 'or', 'each', 'twelve', 'until', 'so', 'and', 'most', 'doing', 'cannot', 'above', 'due', 'made', 'least', 'meanwhile', 'could', 'whither', 'latter', 'who', 'if', 'never', 'really', 'why', 'very', 'anyhow', 'enough', 'other', 'no', 'thru', 'neither', 'can', 'will', 'might', 'yourself', 'well', 'should', 'less', 'our', 'often', 'first', 'another', 'give', 'n’t', 'whence', 'unless', '‘ve', 'into', 'yourselves', \"n't\", 'it', 'than', 'used', 'four', 'therefore', 'would', 'me', 'nowhere', 'hers', '’re', 'been', 'did', 'only', 'along', 'she', 'serious', 'where', 'after', 'show', 'had', 'five', 'herein', 'how', 'whereby', 'hereby', 'bottom', 'fifteen', 'ever', 'mostly', 'latterly', 'nevertheless', 'upon', 'various', 'its', 'anything', 'twenty', 'under', 'myself', 'within', 'afterwards', 'namely', 'around', 'moreover', 'rather', 'when', 'does', 'former', 'either', 'down', \"'re\", 'many', 'own', 'you', 'becomes', 'themselves', 'because', 'somewhere', 'two', 'do', 'up', 'nine', 'beyond', 'we', 'third', 'ca', 'sometime', 'others', 'of', 'thus', 'per', 'go', 'behind', 'forty', 'nothing', 'say', 'see', 'mine', 'amount', 'at', 'hence', 'below', 'from', 'front', 'hereupon', 'those', 'top', 'also', 'still', 'her', 'several', 'part', '‘m', 'are', 'not', 'last', 'nobody', 'yet', 'three', 'please', 'noone', 'to', 'perhaps', 'together', 'i', \"'m\", 'take', 'ourselves', 'here', 'off', 'the', 'anywhere', 'him', 'over', 'throughout', \"'d\", 'your', 'in', 'since', 'towards', 'nor', 'get', '‘re', 'onto', 'however', 'become', 'thence', 'on', 'out', 'elsewhere', 'there', 'n‘t', 'else', 'hereafter', 'more', 'always', 'beforehand', 'by', 'wherever', 'both', 'otherwise', 'before', 'indeed', 'call', 'thereby', 'whereupon', '’d', 'everywhere', 'whatever'}\n"
     ]
    }
   ],
   "source": [
    "print(nlp.Defaults.stop_words)"
   ]
  },
  {
   "cell_type": "code",
   "execution_count": 28,
   "id": "5a5f3d7d",
   "metadata": {},
   "outputs": [
    {
     "data": {
      "text/plain": [
       "326"
      ]
     },
     "execution_count": 28,
     "metadata": {},
     "output_type": "execute_result"
    }
   ],
   "source": [
    "len(nlp.Defaults.stop_words)"
   ]
  },
  {
   "cell_type": "code",
   "execution_count": 31,
   "id": "42afd27f",
   "metadata": {},
   "outputs": [
    {
     "data": {
      "text/plain": [
       "True"
      ]
     },
     "execution_count": 31,
     "metadata": {},
     "output_type": "execute_result"
    }
   ],
   "source": [
    "# How to check for stop word\n",
    "nlp.vocab['is'].is_stop"
   ]
  },
  {
   "cell_type": "code",
   "execution_count": 32,
   "id": "0aea463c",
   "metadata": {},
   "outputs": [
    {
     "data": {
      "text/plain": [
       "False"
      ]
     },
     "execution_count": 32,
     "metadata": {},
     "output_type": "execute_result"
    }
   ],
   "source": [
    "nlp.vocab['mystery'].is_stop"
   ]
  },
  {
   "cell_type": "code",
   "execution_count": 33,
   "id": "2e7bd7ce",
   "metadata": {},
   "outputs": [],
   "source": [
    "# How to add stop word.\n",
    "# You could also remove a stop word with .remove() ...\n",
    "nlp.Defaults.stop_words.add('btw')"
   ]
  },
  {
   "cell_type": "code",
   "execution_count": 34,
   "id": "05dae484",
   "metadata": {},
   "outputs": [
    {
     "data": {
      "text/plain": [
       "True"
      ]
     },
     "execution_count": 34,
     "metadata": {},
     "output_type": "execute_result"
    }
   ],
   "source": [
    "nlp.vocab['btw'].is_stop"
   ]
  },
  {
   "cell_type": "code",
   "execution_count": 35,
   "id": "0524a185",
   "metadata": {},
   "outputs": [
    {
     "data": {
      "text/plain": [
       "327"
      ]
     },
     "execution_count": 35,
     "metadata": {},
     "output_type": "execute_result"
    }
   ],
   "source": [
    "len(nlp.Defaults.stop_words)"
   ]
  },
  {
   "cell_type": "code",
   "execution_count": null,
   "id": "01d2a821",
   "metadata": {},
   "outputs": [],
   "source": []
  }
 ],
 "metadata": {
  "kernelspec": {
   "display_name": "Python 3 (ipykernel)",
   "language": "python",
   "name": "python3"
  },
  "language_info": {
   "codemirror_mode": {
    "name": "ipython",
    "version": 3
   },
   "file_extension": ".py",
   "mimetype": "text/x-python",
   "name": "python",
   "nbconvert_exporter": "python",
   "pygments_lexer": "ipython3",
   "version": "3.11.3"
  }
 },
 "nbformat": 4,
 "nbformat_minor": 5
}
