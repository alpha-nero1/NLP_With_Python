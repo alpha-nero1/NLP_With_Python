{
 "cells": [
  {
   "cell_type": "markdown",
   "id": "c88837b6",
   "metadata": {},
   "source": [
    "-- Neural networks\n",
    "- Components:\n",
    "    - Neuron:\n",
    "    \n",
    "    An artifical neuron is known as a perceptron!\n",
    "    - Dendrites feed into the body of the neuron, then the neuron produces one electrical signal through an axon.\n",
    "    \n",
    "    \n",
    "ANN - Artificial Nerual Networks have a basis in biology!\n",
    "\n",
    "-- Layers\n",
    "- Left most side is the input layer.\n",
    "- Middle is the hidden layer, more than. 3 or more layers is considered a \"deep network\"\n",
    "- Right most layer is the output layer.\n",
    "- Activation function is the function that occurs inside the perceptron."
   ]
  },
  {
   "cell_type": "code",
   "execution_count": 1,
   "id": "0f93784c",
   "metadata": {},
   "outputs": [],
   "source": [
    "# Keras basics\n",
    "import numpy as np\n",
    "import pandas as pd"
   ]
  },
  {
   "cell_type": "code",
   "execution_count": 2,
   "id": "589e02af",
   "metadata": {},
   "outputs": [],
   "source": [
    "from sklearn.datasets import load_iris"
   ]
  },
  {
   "cell_type": "code",
   "execution_count": 3,
   "id": "81402bd8",
   "metadata": {},
   "outputs": [
    {
     "data": {
      "text/plain": [
       "function"
      ]
     },
     "execution_count": 3,
     "metadata": {},
     "output_type": "execute_result"
    }
   ],
   "source": [
    "type(load_iris)"
   ]
  },
  {
   "cell_type": "code",
   "execution_count": 3,
   "id": "5af723f5",
   "metadata": {},
   "outputs": [],
   "source": [
    "iris = load_iris()"
   ]
  },
  {
   "cell_type": "code",
   "execution_count": 5,
   "id": "a5b7b614",
   "metadata": {},
   "outputs": [
    {
     "data": {
      "text/plain": [
       "{'data': array([[5.1, 3.5, 1.4, 0.2],\n",
       "        [4.9, 3. , 1.4, 0.2],\n",
       "        [4.7, 3.2, 1.3, 0.2],\n",
       "        [4.6, 3.1, 1.5, 0.2],\n",
       "        [5. , 3.6, 1.4, 0.2],\n",
       "        [5.4, 3.9, 1.7, 0.4],\n",
       "        [4.6, 3.4, 1.4, 0.3],\n",
       "        [5. , 3.4, 1.5, 0.2],\n",
       "        [4.4, 2.9, 1.4, 0.2],\n",
       "        [4.9, 3.1, 1.5, 0.1],\n",
       "        [5.4, 3.7, 1.5, 0.2],\n",
       "        [4.8, 3.4, 1.6, 0.2],\n",
       "        [4.8, 3. , 1.4, 0.1],\n",
       "        [4.3, 3. , 1.1, 0.1],\n",
       "        [5.8, 4. , 1.2, 0.2],\n",
       "        [5.7, 4.4, 1.5, 0.4],\n",
       "        [5.4, 3.9, 1.3, 0.4],\n",
       "        [5.1, 3.5, 1.4, 0.3],\n",
       "        [5.7, 3.8, 1.7, 0.3],\n",
       "        [5.1, 3.8, 1.5, 0.3],\n",
       "        [5.4, 3.4, 1.7, 0.2],\n",
       "        [5.1, 3.7, 1.5, 0.4],\n",
       "        [4.6, 3.6, 1. , 0.2],\n",
       "        [5.1, 3.3, 1.7, 0.5],\n",
       "        [4.8, 3.4, 1.9, 0.2],\n",
       "        [5. , 3. , 1.6, 0.2],\n",
       "        [5. , 3.4, 1.6, 0.4],\n",
       "        [5.2, 3.5, 1.5, 0.2],\n",
       "        [5.2, 3.4, 1.4, 0.2],\n",
       "        [4.7, 3.2, 1.6, 0.2],\n",
       "        [4.8, 3.1, 1.6, 0.2],\n",
       "        [5.4, 3.4, 1.5, 0.4],\n",
       "        [5.2, 4.1, 1.5, 0.1],\n",
       "        [5.5, 4.2, 1.4, 0.2],\n",
       "        [4.9, 3.1, 1.5, 0.2],\n",
       "        [5. , 3.2, 1.2, 0.2],\n",
       "        [5.5, 3.5, 1.3, 0.2],\n",
       "        [4.9, 3.6, 1.4, 0.1],\n",
       "        [4.4, 3. , 1.3, 0.2],\n",
       "        [5.1, 3.4, 1.5, 0.2],\n",
       "        [5. , 3.5, 1.3, 0.3],\n",
       "        [4.5, 2.3, 1.3, 0.3],\n",
       "        [4.4, 3.2, 1.3, 0.2],\n",
       "        [5. , 3.5, 1.6, 0.6],\n",
       "        [5.1, 3.8, 1.9, 0.4],\n",
       "        [4.8, 3. , 1.4, 0.3],\n",
       "        [5.1, 3.8, 1.6, 0.2],\n",
       "        [4.6, 3.2, 1.4, 0.2],\n",
       "        [5.3, 3.7, 1.5, 0.2],\n",
       "        [5. , 3.3, 1.4, 0.2],\n",
       "        [7. , 3.2, 4.7, 1.4],\n",
       "        [6.4, 3.2, 4.5, 1.5],\n",
       "        [6.9, 3.1, 4.9, 1.5],\n",
       "        [5.5, 2.3, 4. , 1.3],\n",
       "        [6.5, 2.8, 4.6, 1.5],\n",
       "        [5.7, 2.8, 4.5, 1.3],\n",
       "        [6.3, 3.3, 4.7, 1.6],\n",
       "        [4.9, 2.4, 3.3, 1. ],\n",
       "        [6.6, 2.9, 4.6, 1.3],\n",
       "        [5.2, 2.7, 3.9, 1.4],\n",
       "        [5. , 2. , 3.5, 1. ],\n",
       "        [5.9, 3. , 4.2, 1.5],\n",
       "        [6. , 2.2, 4. , 1. ],\n",
       "        [6.1, 2.9, 4.7, 1.4],\n",
       "        [5.6, 2.9, 3.6, 1.3],\n",
       "        [6.7, 3.1, 4.4, 1.4],\n",
       "        [5.6, 3. , 4.5, 1.5],\n",
       "        [5.8, 2.7, 4.1, 1. ],\n",
       "        [6.2, 2.2, 4.5, 1.5],\n",
       "        [5.6, 2.5, 3.9, 1.1],\n",
       "        [5.9, 3.2, 4.8, 1.8],\n",
       "        [6.1, 2.8, 4. , 1.3],\n",
       "        [6.3, 2.5, 4.9, 1.5],\n",
       "        [6.1, 2.8, 4.7, 1.2],\n",
       "        [6.4, 2.9, 4.3, 1.3],\n",
       "        [6.6, 3. , 4.4, 1.4],\n",
       "        [6.8, 2.8, 4.8, 1.4],\n",
       "        [6.7, 3. , 5. , 1.7],\n",
       "        [6. , 2.9, 4.5, 1.5],\n",
       "        [5.7, 2.6, 3.5, 1. ],\n",
       "        [5.5, 2.4, 3.8, 1.1],\n",
       "        [5.5, 2.4, 3.7, 1. ],\n",
       "        [5.8, 2.7, 3.9, 1.2],\n",
       "        [6. , 2.7, 5.1, 1.6],\n",
       "        [5.4, 3. , 4.5, 1.5],\n",
       "        [6. , 3.4, 4.5, 1.6],\n",
       "        [6.7, 3.1, 4.7, 1.5],\n",
       "        [6.3, 2.3, 4.4, 1.3],\n",
       "        [5.6, 3. , 4.1, 1.3],\n",
       "        [5.5, 2.5, 4. , 1.3],\n",
       "        [5.5, 2.6, 4.4, 1.2],\n",
       "        [6.1, 3. , 4.6, 1.4],\n",
       "        [5.8, 2.6, 4. , 1.2],\n",
       "        [5. , 2.3, 3.3, 1. ],\n",
       "        [5.6, 2.7, 4.2, 1.3],\n",
       "        [5.7, 3. , 4.2, 1.2],\n",
       "        [5.7, 2.9, 4.2, 1.3],\n",
       "        [6.2, 2.9, 4.3, 1.3],\n",
       "        [5.1, 2.5, 3. , 1.1],\n",
       "        [5.7, 2.8, 4.1, 1.3],\n",
       "        [6.3, 3.3, 6. , 2.5],\n",
       "        [5.8, 2.7, 5.1, 1.9],\n",
       "        [7.1, 3. , 5.9, 2.1],\n",
       "        [6.3, 2.9, 5.6, 1.8],\n",
       "        [6.5, 3. , 5.8, 2.2],\n",
       "        [7.6, 3. , 6.6, 2.1],\n",
       "        [4.9, 2.5, 4.5, 1.7],\n",
       "        [7.3, 2.9, 6.3, 1.8],\n",
       "        [6.7, 2.5, 5.8, 1.8],\n",
       "        [7.2, 3.6, 6.1, 2.5],\n",
       "        [6.5, 3.2, 5.1, 2. ],\n",
       "        [6.4, 2.7, 5.3, 1.9],\n",
       "        [6.8, 3. , 5.5, 2.1],\n",
       "        [5.7, 2.5, 5. , 2. ],\n",
       "        [5.8, 2.8, 5.1, 2.4],\n",
       "        [6.4, 3.2, 5.3, 2.3],\n",
       "        [6.5, 3. , 5.5, 1.8],\n",
       "        [7.7, 3.8, 6.7, 2.2],\n",
       "        [7.7, 2.6, 6.9, 2.3],\n",
       "        [6. , 2.2, 5. , 1.5],\n",
       "        [6.9, 3.2, 5.7, 2.3],\n",
       "        [5.6, 2.8, 4.9, 2. ],\n",
       "        [7.7, 2.8, 6.7, 2. ],\n",
       "        [6.3, 2.7, 4.9, 1.8],\n",
       "        [6.7, 3.3, 5.7, 2.1],\n",
       "        [7.2, 3.2, 6. , 1.8],\n",
       "        [6.2, 2.8, 4.8, 1.8],\n",
       "        [6.1, 3. , 4.9, 1.8],\n",
       "        [6.4, 2.8, 5.6, 2.1],\n",
       "        [7.2, 3. , 5.8, 1.6],\n",
       "        [7.4, 2.8, 6.1, 1.9],\n",
       "        [7.9, 3.8, 6.4, 2. ],\n",
       "        [6.4, 2.8, 5.6, 2.2],\n",
       "        [6.3, 2.8, 5.1, 1.5],\n",
       "        [6.1, 2.6, 5.6, 1.4],\n",
       "        [7.7, 3. , 6.1, 2.3],\n",
       "        [6.3, 3.4, 5.6, 2.4],\n",
       "        [6.4, 3.1, 5.5, 1.8],\n",
       "        [6. , 3. , 4.8, 1.8],\n",
       "        [6.9, 3.1, 5.4, 2.1],\n",
       "        [6.7, 3.1, 5.6, 2.4],\n",
       "        [6.9, 3.1, 5.1, 2.3],\n",
       "        [5.8, 2.7, 5.1, 1.9],\n",
       "        [6.8, 3.2, 5.9, 2.3],\n",
       "        [6.7, 3.3, 5.7, 2.5],\n",
       "        [6.7, 3. , 5.2, 2.3],\n",
       "        [6.3, 2.5, 5. , 1.9],\n",
       "        [6.5, 3. , 5.2, 2. ],\n",
       "        [6.2, 3.4, 5.4, 2.3],\n",
       "        [5.9, 3. , 5.1, 1.8]]),\n",
       " 'target': array([0, 0, 0, 0, 0, 0, 0, 0, 0, 0, 0, 0, 0, 0, 0, 0, 0, 0, 0, 0, 0, 0,\n",
       "        0, 0, 0, 0, 0, 0, 0, 0, 0, 0, 0, 0, 0, 0, 0, 0, 0, 0, 0, 0, 0, 0,\n",
       "        0, 0, 0, 0, 0, 0, 1, 1, 1, 1, 1, 1, 1, 1, 1, 1, 1, 1, 1, 1, 1, 1,\n",
       "        1, 1, 1, 1, 1, 1, 1, 1, 1, 1, 1, 1, 1, 1, 1, 1, 1, 1, 1, 1, 1, 1,\n",
       "        1, 1, 1, 1, 1, 1, 1, 1, 1, 1, 1, 1, 2, 2, 2, 2, 2, 2, 2, 2, 2, 2,\n",
       "        2, 2, 2, 2, 2, 2, 2, 2, 2, 2, 2, 2, 2, 2, 2, 2, 2, 2, 2, 2, 2, 2,\n",
       "        2, 2, 2, 2, 2, 2, 2, 2, 2, 2, 2, 2, 2, 2, 2, 2, 2, 2]),\n",
       " 'frame': None,\n",
       " 'target_names': array(['setosa', 'versicolor', 'virginica'], dtype='<U10'),\n",
       " 'DESCR': '.. _iris_dataset:\\n\\nIris plants dataset\\n--------------------\\n\\n**Data Set Characteristics:**\\n\\n    :Number of Instances: 150 (50 in each of three classes)\\n    :Number of Attributes: 4 numeric, predictive attributes and the class\\n    :Attribute Information:\\n        - sepal length in cm\\n        - sepal width in cm\\n        - petal length in cm\\n        - petal width in cm\\n        - class:\\n                - Iris-Setosa\\n                - Iris-Versicolour\\n                - Iris-Virginica\\n                \\n    :Summary Statistics:\\n\\n    ============== ==== ==== ======= ===== ====================\\n                    Min  Max   Mean    SD   Class Correlation\\n    ============== ==== ==== ======= ===== ====================\\n    sepal length:   4.3  7.9   5.84   0.83    0.7826\\n    sepal width:    2.0  4.4   3.05   0.43   -0.4194\\n    petal length:   1.0  6.9   3.76   1.76    0.9490  (high!)\\n    petal width:    0.1  2.5   1.20   0.76    0.9565  (high!)\\n    ============== ==== ==== ======= ===== ====================\\n\\n    :Missing Attribute Values: None\\n    :Class Distribution: 33.3% for each of 3 classes.\\n    :Creator: R.A. Fisher\\n    :Donor: Michael Marshall (MARSHALL%PLU@io.arc.nasa.gov)\\n    :Date: July, 1988\\n\\nThe famous Iris database, first used by Sir R.A. Fisher. The dataset is taken\\nfrom Fisher\\'s paper. Note that it\\'s the same as in R, but not as in the UCI\\nMachine Learning Repository, which has two wrong data points.\\n\\nThis is perhaps the best known database to be found in the\\npattern recognition literature.  Fisher\\'s paper is a classic in the field and\\nis referenced frequently to this day.  (See Duda & Hart, for example.)  The\\ndata set contains 3 classes of 50 instances each, where each class refers to a\\ntype of iris plant.  One class is linearly separable from the other 2; the\\nlatter are NOT linearly separable from each other.\\n\\n.. topic:: References\\n\\n   - Fisher, R.A. \"The use of multiple measurements in taxonomic problems\"\\n     Annual Eugenics, 7, Part II, 179-188 (1936); also in \"Contributions to\\n     Mathematical Statistics\" (John Wiley, NY, 1950).\\n   - Duda, R.O., & Hart, P.E. (1973) Pattern Classification and Scene Analysis.\\n     (Q327.D83) John Wiley & Sons.  ISBN 0-471-22361-1.  See page 218.\\n   - Dasarathy, B.V. (1980) \"Nosing Around the Neighborhood: A New System\\n     Structure and Classification Rule for Recognition in Partially Exposed\\n     Environments\".  IEEE Transactions on Pattern Analysis and Machine\\n     Intelligence, Vol. PAMI-2, No. 1, 67-71.\\n   - Gates, G.W. (1972) \"The Reduced Nearest Neighbor Rule\".  IEEE Transactions\\n     on Information Theory, May 1972, 431-433.\\n   - See also: 1988 MLC Proceedings, 54-64.  Cheeseman et al\"s AUTOCLASS II\\n     conceptual clustering system finds 3 classes in the data.\\n   - Many, many more ...',\n",
       " 'feature_names': ['sepal length (cm)',\n",
       "  'sepal width (cm)',\n",
       "  'petal length (cm)',\n",
       "  'petal width (cm)'],\n",
       " 'filename': 'iris.csv',\n",
       " 'data_module': 'sklearn.datasets.data'}"
      ]
     },
     "execution_count": 5,
     "metadata": {},
     "output_type": "execute_result"
    }
   ],
   "source": [
    "iris"
   ]
  },
  {
   "cell_type": "code",
   "execution_count": 7,
   "id": "cf4f7b07",
   "metadata": {},
   "outputs": [
    {
     "name": "stdout",
     "output_type": "stream",
     "text": [
      ".. _iris_dataset:\n",
      "\n",
      "Iris plants dataset\n",
      "--------------------\n",
      "\n",
      "**Data Set Characteristics:**\n",
      "\n",
      "    :Number of Instances: 150 (50 in each of three classes)\n",
      "    :Number of Attributes: 4 numeric, predictive attributes and the class\n",
      "    :Attribute Information:\n",
      "        - sepal length in cm\n",
      "        - sepal width in cm\n",
      "        - petal length in cm\n",
      "        - petal width in cm\n",
      "        - class:\n",
      "                - Iris-Setosa\n",
      "                - Iris-Versicolour\n",
      "                - Iris-Virginica\n",
      "                \n",
      "    :Summary Statistics:\n",
      "\n",
      "    ============== ==== ==== ======= ===== ====================\n",
      "                    Min  Max   Mean    SD   Class Correlation\n",
      "    ============== ==== ==== ======= ===== ====================\n",
      "    sepal length:   4.3  7.9   5.84   0.83    0.7826\n",
      "    sepal width:    2.0  4.4   3.05   0.43   -0.4194\n",
      "    petal length:   1.0  6.9   3.76   1.76    0.9490  (high!)\n",
      "    petal width:    0.1  2.5   1.20   0.76    0.9565  (high!)\n",
      "    ============== ==== ==== ======= ===== ====================\n",
      "\n",
      "    :Missing Attribute Values: None\n",
      "    :Class Distribution: 33.3% for each of 3 classes.\n",
      "    :Creator: R.A. Fisher\n",
      "    :Donor: Michael Marshall (MARSHALL%PLU@io.arc.nasa.gov)\n",
      "    :Date: July, 1988\n",
      "\n",
      "The famous Iris database, first used by Sir R.A. Fisher. The dataset is taken\n",
      "from Fisher's paper. Note that it's the same as in R, but not as in the UCI\n",
      "Machine Learning Repository, which has two wrong data points.\n",
      "\n",
      "This is perhaps the best known database to be found in the\n",
      "pattern recognition literature.  Fisher's paper is a classic in the field and\n",
      "is referenced frequently to this day.  (See Duda & Hart, for example.)  The\n",
      "data set contains 3 classes of 50 instances each, where each class refers to a\n",
      "type of iris plant.  One class is linearly separable from the other 2; the\n",
      "latter are NOT linearly separable from each other.\n",
      "\n",
      ".. topic:: References\n",
      "\n",
      "   - Fisher, R.A. \"The use of multiple measurements in taxonomic problems\"\n",
      "     Annual Eugenics, 7, Part II, 179-188 (1936); also in \"Contributions to\n",
      "     Mathematical Statistics\" (John Wiley, NY, 1950).\n",
      "   - Duda, R.O., & Hart, P.E. (1973) Pattern Classification and Scene Analysis.\n",
      "     (Q327.D83) John Wiley & Sons.  ISBN 0-471-22361-1.  See page 218.\n",
      "   - Dasarathy, B.V. (1980) \"Nosing Around the Neighborhood: A New System\n",
      "     Structure and Classification Rule for Recognition in Partially Exposed\n",
      "     Environments\".  IEEE Transactions on Pattern Analysis and Machine\n",
      "     Intelligence, Vol. PAMI-2, No. 1, 67-71.\n",
      "   - Gates, G.W. (1972) \"The Reduced Nearest Neighbor Rule\".  IEEE Transactions\n",
      "     on Information Theory, May 1972, 431-433.\n",
      "   - See also: 1988 MLC Proceedings, 54-64.  Cheeseman et al\"s AUTOCLASS II\n",
      "     conceptual clustering system finds 3 classes in the data.\n",
      "   - Many, many more ...\n"
     ]
    }
   ],
   "source": [
    "print(iris.DESCR)"
   ]
  },
  {
   "cell_type": "code",
   "execution_count": 4,
   "id": "7a422ccc",
   "metadata": {},
   "outputs": [],
   "source": [
    "X = iris.data"
   ]
  },
  {
   "cell_type": "code",
   "execution_count": 5,
   "id": "02170f75",
   "metadata": {},
   "outputs": [],
   "source": [
    "y = iris.target"
   ]
  },
  {
   "cell_type": "code",
   "execution_count": 10,
   "id": "5b7c54ec",
   "metadata": {},
   "outputs": [],
   "source": [
    "# class 0 = [1, 0, 0]\n",
    "# class 1 = [0, 1, 0]\n",
    "# class 2 = [0, 0, 1]\n",
    "# ^ Hot one encoding!"
   ]
  },
  {
   "cell_type": "code",
   "execution_count": 6,
   "id": "51ce80b0",
   "metadata": {},
   "outputs": [],
   "source": [
    "from keras.utils import to_categorical"
   ]
  },
  {
   "cell_type": "code",
   "execution_count": 7,
   "id": "77f99188",
   "metadata": {},
   "outputs": [],
   "source": [
    "y = to_categorical(y)"
   ]
  },
  {
   "cell_type": "code",
   "execution_count": 8,
   "id": "b3841d75",
   "metadata": {},
   "outputs": [],
   "source": [
    "from sklearn.model_selection import train_test_split"
   ]
  },
  {
   "cell_type": "code",
   "execution_count": 9,
   "id": "083bc70e",
   "metadata": {},
   "outputs": [],
   "source": [
    "X_train, X_test, y_train, y_test = train_test_split(X, y, test_size=0.33, random_state=42)"
   ]
  },
  {
   "cell_type": "code",
   "execution_count": 10,
   "id": "24b91439",
   "metadata": {},
   "outputs": [],
   "source": [
    "from sklearn.preprocessing import MinMaxScaler"
   ]
  },
  {
   "cell_type": "code",
   "execution_count": 11,
   "id": "530883d9",
   "metadata": {},
   "outputs": [],
   "source": [
    "scaler = MinMaxScaler() # Makes all values fit within a range (essentially dividing by the max value)."
   ]
  },
  {
   "cell_type": "code",
   "execution_count": 12,
   "id": "d36f6a99",
   "metadata": {},
   "outputs": [
    {
     "data": {
      "text/html": [
       "<style>#sk-container-id-1 {color: black;background-color: white;}#sk-container-id-1 pre{padding: 0;}#sk-container-id-1 div.sk-toggleable {background-color: white;}#sk-container-id-1 label.sk-toggleable__label {cursor: pointer;display: block;width: 100%;margin-bottom: 0;padding: 0.3em;box-sizing: border-box;text-align: center;}#sk-container-id-1 label.sk-toggleable__label-arrow:before {content: \"▸\";float: left;margin-right: 0.25em;color: #696969;}#sk-container-id-1 label.sk-toggleable__label-arrow:hover:before {color: black;}#sk-container-id-1 div.sk-estimator:hover label.sk-toggleable__label-arrow:before {color: black;}#sk-container-id-1 div.sk-toggleable__content {max-height: 0;max-width: 0;overflow: hidden;text-align: left;background-color: #f0f8ff;}#sk-container-id-1 div.sk-toggleable__content pre {margin: 0.2em;color: black;border-radius: 0.25em;background-color: #f0f8ff;}#sk-container-id-1 input.sk-toggleable__control:checked~div.sk-toggleable__content {max-height: 200px;max-width: 100%;overflow: auto;}#sk-container-id-1 input.sk-toggleable__control:checked~label.sk-toggleable__label-arrow:before {content: \"▾\";}#sk-container-id-1 div.sk-estimator input.sk-toggleable__control:checked~label.sk-toggleable__label {background-color: #d4ebff;}#sk-container-id-1 div.sk-label input.sk-toggleable__control:checked~label.sk-toggleable__label {background-color: #d4ebff;}#sk-container-id-1 input.sk-hidden--visually {border: 0;clip: rect(1px 1px 1px 1px);clip: rect(1px, 1px, 1px, 1px);height: 1px;margin: -1px;overflow: hidden;padding: 0;position: absolute;width: 1px;}#sk-container-id-1 div.sk-estimator {font-family: monospace;background-color: #f0f8ff;border: 1px dotted black;border-radius: 0.25em;box-sizing: border-box;margin-bottom: 0.5em;}#sk-container-id-1 div.sk-estimator:hover {background-color: #d4ebff;}#sk-container-id-1 div.sk-parallel-item::after {content: \"\";width: 100%;border-bottom: 1px solid gray;flex-grow: 1;}#sk-container-id-1 div.sk-label:hover label.sk-toggleable__label {background-color: #d4ebff;}#sk-container-id-1 div.sk-serial::before {content: \"\";position: absolute;border-left: 1px solid gray;box-sizing: border-box;top: 0;bottom: 0;left: 50%;z-index: 0;}#sk-container-id-1 div.sk-serial {display: flex;flex-direction: column;align-items: center;background-color: white;padding-right: 0.2em;padding-left: 0.2em;position: relative;}#sk-container-id-1 div.sk-item {position: relative;z-index: 1;}#sk-container-id-1 div.sk-parallel {display: flex;align-items: stretch;justify-content: center;background-color: white;position: relative;}#sk-container-id-1 div.sk-item::before, #sk-container-id-1 div.sk-parallel-item::before {content: \"\";position: absolute;border-left: 1px solid gray;box-sizing: border-box;top: 0;bottom: 0;left: 50%;z-index: -1;}#sk-container-id-1 div.sk-parallel-item {display: flex;flex-direction: column;z-index: 1;position: relative;background-color: white;}#sk-container-id-1 div.sk-parallel-item:first-child::after {align-self: flex-end;width: 50%;}#sk-container-id-1 div.sk-parallel-item:last-child::after {align-self: flex-start;width: 50%;}#sk-container-id-1 div.sk-parallel-item:only-child::after {width: 0;}#sk-container-id-1 div.sk-dashed-wrapped {border: 1px dashed gray;margin: 0 0.4em 0.5em 0.4em;box-sizing: border-box;padding-bottom: 0.4em;background-color: white;}#sk-container-id-1 div.sk-label label {font-family: monospace;font-weight: bold;display: inline-block;line-height: 1.2em;}#sk-container-id-1 div.sk-label-container {text-align: center;}#sk-container-id-1 div.sk-container {/* jupyter's `normalize.less` sets `[hidden] { display: none; }` but bootstrap.min.css set `[hidden] { display: none !important; }` so we also need the `!important` here to be able to override the default hidden behavior on the sphinx rendered scikit-learn.org. See: https://github.com/scikit-learn/scikit-learn/issues/21755 */display: inline-block !important;position: relative;}#sk-container-id-1 div.sk-text-repr-fallback {display: none;}</style><div id=\"sk-container-id-1\" class=\"sk-top-container\"><div class=\"sk-text-repr-fallback\"><pre>MinMaxScaler()</pre><b>In a Jupyter environment, please rerun this cell to show the HTML representation or trust the notebook. <br />On GitHub, the HTML representation is unable to render, please try loading this page with nbviewer.org.</b></div><div class=\"sk-container\" hidden><div class=\"sk-item\"><div class=\"sk-estimator sk-toggleable\"><input class=\"sk-toggleable__control sk-hidden--visually\" id=\"sk-estimator-id-1\" type=\"checkbox\" checked><label for=\"sk-estimator-id-1\" class=\"sk-toggleable__label sk-toggleable__label-arrow\">MinMaxScaler</label><div class=\"sk-toggleable__content\"><pre>MinMaxScaler()</pre></div></div></div></div></div>"
      ],
      "text/plain": [
       "MinMaxScaler()"
      ]
     },
     "execution_count": 12,
     "metadata": {},
     "output_type": "execute_result"
    }
   ],
   "source": [
    "scaler.fit(X_train)"
   ]
  },
  {
   "cell_type": "code",
   "execution_count": 13,
   "id": "7af07028",
   "metadata": {},
   "outputs": [],
   "source": [
    "# Create scaled versions of our training data.\n",
    "s_X_train = scaler.transform(X_train)\n",
    "s_X_test = scaler.transform(X_test)"
   ]
  },
  {
   "cell_type": "code",
   "execution_count": 14,
   "id": "17e07ab4",
   "metadata": {},
   "outputs": [],
   "source": [
    "from keras.models import Sequential # Sequence of layers.\n",
    "from keras.layers import Dense"
   ]
  },
  {
   "cell_type": "code",
   "execution_count": 23,
   "id": "b397a67f",
   "metadata": {},
   "outputs": [],
   "source": [
    "model = Sequential() # Create sequential model and add layers."
   ]
  },
  {
   "cell_type": "code",
   "execution_count": 24,
   "id": "31a5e1e7",
   "metadata": {},
   "outputs": [],
   "source": [
    "model.add(Dense(\n",
    "    8, # 8 neurons... Neurons should be some multiple of the features normally\n",
    "    input_dim=4, # Because we expect 4 features.\n",
    "    activation='relu' # for rectified linear unit\n",
    "))\n",
    "model.add(Dense(\n",
    "    8,\n",
    "    input_dim=4,\n",
    "    activation='relu'\n",
    "))\n",
    "model.add(Dense(\n",
    "    3,\n",
    "    activation='softmax'\n",
    ")) # Output that looks like Y"
   ]
  },
  {
   "cell_type": "code",
   "execution_count": 25,
   "id": "6f1ba4c2",
   "metadata": {},
   "outputs": [],
   "source": [
    "model.compile(loss='categorical_crossentropy', optimizer='adam', metrics=['accuracy'])"
   ]
  },
  {
   "cell_type": "code",
   "execution_count": 26,
   "id": "56801bba",
   "metadata": {},
   "outputs": [
    {
     "name": "stdout",
     "output_type": "stream",
     "text": [
      "Model: \"sequential_3\"\n",
      "_________________________________________________________________\n",
      " Layer (type)                Output Shape              Param #   \n",
      "=================================================================\n",
      " dense_8 (Dense)             (None, 8)                 40        \n",
      "                                                                 \n",
      " dense_9 (Dense)             (None, 8)                 72        \n",
      "                                                                 \n",
      " dense_10 (Dense)            (None, 3)                 27        \n",
      "                                                                 \n",
      "=================================================================\n",
      "Total params: 139 (556.00 Byte)\n",
      "Trainable params: 139 (556.00 Byte)\n",
      "Non-trainable params: 0 (0.00 Byte)\n",
      "_________________________________________________________________\n"
     ]
    }
   ],
   "source": [
    "model.summary()"
   ]
  },
  {
   "cell_type": "code",
   "execution_count": 28,
   "id": "71078a75",
   "metadata": {},
   "outputs": [
    {
     "name": "stdout",
     "output_type": "stream",
     "text": [
      "Epoch 1/150\n",
      "4/4 [==============================] - 0s 1ms/step - loss: 1.1750 - accuracy: 0.3100\n",
      "Epoch 2/150\n",
      "4/4 [==============================] - 0s 1ms/step - loss: 1.1682 - accuracy: 0.3100\n",
      "Epoch 3/150\n",
      "4/4 [==============================] - 0s 1ms/step - loss: 1.1619 - accuracy: 0.3100\n",
      "Epoch 4/150\n",
      "4/4 [==============================] - 0s 1ms/step - loss: 1.1558 - accuracy: 0.3100\n",
      "Epoch 5/150\n",
      "4/4 [==============================] - 0s 1ms/step - loss: 1.1503 - accuracy: 0.3000\n",
      "Epoch 6/150\n",
      "4/4 [==============================] - 0s 3ms/step - loss: 1.1457 - accuracy: 0.3000\n",
      "Epoch 7/150\n",
      "4/4 [==============================] - 0s 910us/step - loss: 1.1402 - accuracy: 0.3000\n",
      "Epoch 8/150\n",
      "4/4 [==============================] - 0s 854us/step - loss: 1.1356 - accuracy: 0.3100\n",
      "Epoch 9/150\n",
      "4/4 [==============================] - 0s 848us/step - loss: 1.1316 - accuracy: 0.2900\n",
      "Epoch 10/150\n",
      "4/4 [==============================] - 0s 904us/step - loss: 1.1275 - accuracy: 0.2800\n",
      "Epoch 11/150\n",
      "4/4 [==============================] - 0s 1ms/step - loss: 1.1240 - accuracy: 0.3100\n",
      "Epoch 12/150\n",
      "4/4 [==============================] - 0s 830us/step - loss: 1.1208 - accuracy: 0.2800\n",
      "Epoch 13/150\n",
      "4/4 [==============================] - 0s 984us/step - loss: 1.1176 - accuracy: 0.2700\n",
      "Epoch 14/150\n",
      "4/4 [==============================] - 0s 973us/step - loss: 1.1143 - accuracy: 0.2800\n",
      "Epoch 15/150\n",
      "4/4 [==============================] - 0s 1ms/step - loss: 1.1110 - accuracy: 0.3100\n",
      "Epoch 16/150\n",
      "4/4 [==============================] - 0s 818us/step - loss: 1.1076 - accuracy: 0.3200\n",
      "Epoch 17/150\n",
      "4/4 [==============================] - 0s 986us/step - loss: 1.1043 - accuracy: 0.3600\n",
      "Epoch 18/150\n",
      "4/4 [==============================] - 0s 924us/step - loss: 1.1005 - accuracy: 0.3600\n",
      "Epoch 19/150\n",
      "4/4 [==============================] - 0s 974us/step - loss: 1.0964 - accuracy: 0.4000\n",
      "Epoch 20/150\n",
      "4/4 [==============================] - 0s 866us/step - loss: 1.0917 - accuracy: 0.4000\n",
      "Epoch 21/150\n",
      "4/4 [==============================] - 0s 876us/step - loss: 1.0866 - accuracy: 0.4200\n",
      "Epoch 22/150\n",
      "4/4 [==============================] - 0s 1ms/step - loss: 1.0812 - accuracy: 0.4300\n",
      "Epoch 23/150\n",
      "4/4 [==============================] - 0s 736us/step - loss: 1.0754 - accuracy: 0.4500\n",
      "Epoch 24/150\n",
      "4/4 [==============================] - 0s 962us/step - loss: 1.0698 - accuracy: 0.4500\n",
      "Epoch 25/150\n",
      "4/4 [==============================] - 0s 802us/step - loss: 1.0638 - accuracy: 0.4600\n",
      "Epoch 26/150\n",
      "4/4 [==============================] - 0s 818us/step - loss: 1.0573 - accuracy: 0.5100\n",
      "Epoch 27/150\n",
      "4/4 [==============================] - 0s 783us/step - loss: 1.0506 - accuracy: 0.5400\n",
      "Epoch 28/150\n",
      "4/4 [==============================] - 0s 870us/step - loss: 1.0436 - accuracy: 0.5700\n",
      "Epoch 29/150\n",
      "4/4 [==============================] - 0s 747us/step - loss: 1.0363 - accuracy: 0.6100\n",
      "Epoch 30/150\n",
      "4/4 [==============================] - 0s 1ms/step - loss: 1.0281 - accuracy: 0.6300\n",
      "Epoch 31/150\n",
      "4/4 [==============================] - 0s 842us/step - loss: 1.0200 - accuracy: 0.6300\n",
      "Epoch 32/150\n",
      "4/4 [==============================] - 0s 979us/step - loss: 1.0121 - accuracy: 0.6300\n",
      "Epoch 33/150\n",
      "4/4 [==============================] - 0s 884us/step - loss: 1.0037 - accuracy: 0.6400\n",
      "Epoch 34/150\n",
      "4/4 [==============================] - 0s 790us/step - loss: 0.9956 - accuracy: 0.6500\n",
      "Epoch 35/150\n",
      "4/4 [==============================] - 0s 898us/step - loss: 0.9872 - accuracy: 0.6500\n",
      "Epoch 36/150\n",
      "4/4 [==============================] - 0s 735us/step - loss: 0.9787 - accuracy: 0.6500\n",
      "Epoch 37/150\n",
      "4/4 [==============================] - 0s 773us/step - loss: 0.9697 - accuracy: 0.6500\n",
      "Epoch 38/150\n",
      "4/4 [==============================] - 0s 951us/step - loss: 0.9605 - accuracy: 0.6500\n",
      "Epoch 39/150\n",
      "4/4 [==============================] - 0s 855us/step - loss: 0.9509 - accuracy: 0.6500\n",
      "Epoch 40/150\n",
      "4/4 [==============================] - 0s 1ms/step - loss: 0.9412 - accuracy: 0.6600\n",
      "Epoch 41/150\n",
      "4/4 [==============================] - 0s 743us/step - loss: 0.9313 - accuracy: 0.6600\n",
      "Epoch 42/150\n",
      "4/4 [==============================] - 0s 1ms/step - loss: 0.9205 - accuracy: 0.6600\n",
      "Epoch 43/150\n",
      "4/4 [==============================] - 0s 814us/step - loss: 0.9097 - accuracy: 0.6800\n",
      "Epoch 44/150\n",
      "4/4 [==============================] - 0s 817us/step - loss: 0.8987 - accuracy: 0.6800\n",
      "Epoch 45/150\n",
      "4/4 [==============================] - 0s 812us/step - loss: 0.8878 - accuracy: 0.6900\n",
      "Epoch 46/150\n",
      "4/4 [==============================] - 0s 886us/step - loss: 0.8771 - accuracy: 0.6800\n",
      "Epoch 47/150\n",
      "4/4 [==============================] - 0s 839us/step - loss: 0.8661 - accuracy: 0.6900\n",
      "Epoch 48/150\n",
      "4/4 [==============================] - 0s 742us/step - loss: 0.8549 - accuracy: 0.7000\n",
      "Epoch 49/150\n",
      "4/4 [==============================] - 0s 1ms/step - loss: 0.8441 - accuracy: 0.7000\n",
      "Epoch 50/150\n",
      "4/4 [==============================] - 0s 959us/step - loss: 0.8331 - accuracy: 0.7000\n",
      "Epoch 51/150\n",
      "4/4 [==============================] - 0s 930us/step - loss: 0.8222 - accuracy: 0.7000\n",
      "Epoch 52/150\n",
      "4/4 [==============================] - 0s 877us/step - loss: 0.8114 - accuracy: 0.7000\n",
      "Epoch 53/150\n",
      "4/4 [==============================] - 0s 953us/step - loss: 0.8007 - accuracy: 0.7000\n",
      "Epoch 54/150\n",
      "4/4 [==============================] - 0s 848us/step - loss: 0.7897 - accuracy: 0.7100\n",
      "Epoch 55/150\n",
      "4/4 [==============================] - 0s 870us/step - loss: 0.7788 - accuracy: 0.7100\n",
      "Epoch 56/150\n",
      "4/4 [==============================] - 0s 843us/step - loss: 0.7675 - accuracy: 0.7200\n",
      "Epoch 57/150\n",
      "4/4 [==============================] - 0s 862us/step - loss: 0.7565 - accuracy: 0.7400\n",
      "Epoch 58/150\n",
      "4/4 [==============================] - 0s 718us/step - loss: 0.7461 - accuracy: 0.7700\n",
      "Epoch 59/150\n",
      "4/4 [==============================] - 0s 839us/step - loss: 0.7355 - accuracy: 0.8000\n",
      "Epoch 60/150\n",
      "4/4 [==============================] - 0s 745us/step - loss: 0.7257 - accuracy: 0.8300\n",
      "Epoch 61/150\n",
      "4/4 [==============================] - 0s 844us/step - loss: 0.7160 - accuracy: 0.8400\n",
      "Epoch 62/150\n",
      "4/4 [==============================] - 0s 843us/step - loss: 0.7068 - accuracy: 0.8400\n",
      "Epoch 63/150\n",
      "4/4 [==============================] - 0s 857us/step - loss: 0.6981 - accuracy: 0.8400\n",
      "Epoch 64/150\n",
      "4/4 [==============================] - 0s 701us/step - loss: 0.6899 - accuracy: 0.8500\n",
      "Epoch 65/150\n",
      "4/4 [==============================] - 0s 999us/step - loss: 0.6815 - accuracy: 0.8500\n",
      "Epoch 66/150\n",
      "4/4 [==============================] - 0s 775us/step - loss: 0.6733 - accuracy: 0.8600\n",
      "Epoch 67/150\n",
      "4/4 [==============================] - 0s 795us/step - loss: 0.6652 - accuracy: 0.8600\n",
      "Epoch 68/150\n",
      "4/4 [==============================] - 0s 792us/step - loss: 0.6575 - accuracy: 0.8600\n",
      "Epoch 69/150\n",
      "4/4 [==============================] - 0s 887us/step - loss: 0.6496 - accuracy: 0.8500\n",
      "Epoch 70/150\n",
      "4/4 [==============================] - 0s 823us/step - loss: 0.6416 - accuracy: 0.8600\n",
      "Epoch 71/150\n",
      "4/4 [==============================] - 0s 913us/step - loss: 0.6337 - accuracy: 0.8800\n",
      "Epoch 72/150\n",
      "4/4 [==============================] - 0s 808us/step - loss: 0.6255 - accuracy: 0.8800\n",
      "Epoch 73/150\n",
      "4/4 [==============================] - 0s 777us/step - loss: 0.6183 - accuracy: 0.8900\n",
      "Epoch 74/150\n",
      "4/4 [==============================] - 0s 815us/step - loss: 0.6102 - accuracy: 0.8800\n",
      "Epoch 75/150\n",
      "4/4 [==============================] - 0s 719us/step - loss: 0.6028 - accuracy: 0.8900\n",
      "Epoch 76/150\n",
      "4/4 [==============================] - 0s 764us/step - loss: 0.5958 - accuracy: 0.8900\n",
      "Epoch 77/150\n",
      "4/4 [==============================] - 0s 782us/step - loss: 0.5886 - accuracy: 0.8800\n",
      "Epoch 78/150\n",
      "4/4 [==============================] - 0s 703us/step - loss: 0.5820 - accuracy: 0.8800\n",
      "Epoch 79/150\n",
      "4/4 [==============================] - 0s 825us/step - loss: 0.5749 - accuracy: 0.8800\n",
      "Epoch 80/150\n",
      "4/4 [==============================] - 0s 802us/step - loss: 0.5682 - accuracy: 0.8800\n",
      "Epoch 81/150\n",
      "4/4 [==============================] - 0s 690us/step - loss: 0.5618 - accuracy: 0.8900\n",
      "Epoch 82/150\n",
      "4/4 [==============================] - 0s 930us/step - loss: 0.5555 - accuracy: 0.8900\n",
      "Epoch 83/150\n"
     ]
    },
    {
     "name": "stdout",
     "output_type": "stream",
     "text": [
      "4/4 [==============================] - 0s 723us/step - loss: 0.5490 - accuracy: 0.8900\n",
      "Epoch 84/150\n",
      "4/4 [==============================] - 0s 840us/step - loss: 0.5427 - accuracy: 0.8900\n",
      "Epoch 85/150\n",
      "4/4 [==============================] - 0s 723us/step - loss: 0.5365 - accuracy: 0.8900\n",
      "Epoch 86/150\n",
      "4/4 [==============================] - 0s 888us/step - loss: 0.5310 - accuracy: 0.9000\n",
      "Epoch 87/150\n",
      "4/4 [==============================] - 0s 907us/step - loss: 0.5243 - accuracy: 0.9000\n",
      "Epoch 88/150\n",
      "4/4 [==============================] - 0s 983us/step - loss: 0.5183 - accuracy: 0.9100\n",
      "Epoch 89/150\n",
      "4/4 [==============================] - 0s 706us/step - loss: 0.5121 - accuracy: 0.9100\n",
      "Epoch 90/150\n",
      "4/4 [==============================] - 0s 911us/step - loss: 0.5060 - accuracy: 0.9100\n",
      "Epoch 91/150\n",
      "4/4 [==============================] - 0s 753us/step - loss: 0.5000 - accuracy: 0.9200\n",
      "Epoch 92/150\n",
      "4/4 [==============================] - 0s 752us/step - loss: 0.4938 - accuracy: 0.9200\n",
      "Epoch 93/150\n",
      "4/4 [==============================] - 0s 711us/step - loss: 0.4874 - accuracy: 0.9200\n",
      "Epoch 94/150\n",
      "4/4 [==============================] - 0s 855us/step - loss: 0.4810 - accuracy: 0.9200\n",
      "Epoch 95/150\n",
      "4/4 [==============================] - 0s 665us/step - loss: 0.4762 - accuracy: 0.9200\n",
      "Epoch 96/150\n",
      "4/4 [==============================] - 0s 1ms/step - loss: 0.4703 - accuracy: 0.9200\n",
      "Epoch 97/150\n",
      "4/4 [==============================] - 0s 726us/step - loss: 0.4639 - accuracy: 0.9200\n",
      "Epoch 98/150\n",
      "4/4 [==============================] - 0s 834us/step - loss: 0.4587 - accuracy: 0.9200\n",
      "Epoch 99/150\n",
      "4/4 [==============================] - 0s 808us/step - loss: 0.4537 - accuracy: 0.9200\n",
      "Epoch 100/150\n",
      "4/4 [==============================] - 0s 797us/step - loss: 0.4489 - accuracy: 0.9300\n",
      "Epoch 101/150\n",
      "4/4 [==============================] - 0s 743us/step - loss: 0.4449 - accuracy: 0.9200\n",
      "Epoch 102/150\n",
      "4/4 [==============================] - 0s 809us/step - loss: 0.4401 - accuracy: 0.9200\n",
      "Epoch 103/150\n",
      "4/4 [==============================] - 0s 750us/step - loss: 0.4351 - accuracy: 0.9200\n",
      "Epoch 104/150\n",
      "4/4 [==============================] - 0s 687us/step - loss: 0.4304 - accuracy: 0.9200\n",
      "Epoch 105/150\n",
      "4/4 [==============================] - 0s 778us/step - loss: 0.4258 - accuracy: 0.9200\n",
      "Epoch 106/150\n",
      "4/4 [==============================] - 0s 764us/step - loss: 0.4209 - accuracy: 0.9200\n",
      "Epoch 107/150\n",
      "4/4 [==============================] - 0s 839us/step - loss: 0.4162 - accuracy: 0.9200\n",
      "Epoch 108/150\n",
      "4/4 [==============================] - 0s 737us/step - loss: 0.4114 - accuracy: 0.9200\n",
      "Epoch 109/150\n",
      "4/4 [==============================] - 0s 877us/step - loss: 0.4068 - accuracy: 0.9200\n",
      "Epoch 110/150\n",
      "4/4 [==============================] - 0s 690us/step - loss: 0.4024 - accuracy: 0.9200\n",
      "Epoch 111/150\n",
      "4/4 [==============================] - 0s 663us/step - loss: 0.3980 - accuracy: 0.9200\n",
      "Epoch 112/150\n",
      "4/4 [==============================] - 0s 849us/step - loss: 0.3938 - accuracy: 0.9300\n",
      "Epoch 113/150\n",
      "4/4 [==============================] - 0s 710us/step - loss: 0.3899 - accuracy: 0.9400\n",
      "Epoch 114/150\n",
      "4/4 [==============================] - 0s 896us/step - loss: 0.3859 - accuracy: 0.9200\n",
      "Epoch 115/150\n",
      "4/4 [==============================] - 0s 691us/step - loss: 0.3812 - accuracy: 0.9400\n",
      "Epoch 116/150\n",
      "4/4 [==============================] - 0s 776us/step - loss: 0.3776 - accuracy: 0.9400\n",
      "Epoch 117/150\n",
      "4/4 [==============================] - 0s 724us/step - loss: 0.3738 - accuracy: 0.9300\n",
      "Epoch 118/150\n",
      "4/4 [==============================] - 0s 845us/step - loss: 0.3704 - accuracy: 0.9300\n",
      "Epoch 119/150\n",
      "4/4 [==============================] - 0s 761us/step - loss: 0.3660 - accuracy: 0.9300\n",
      "Epoch 120/150\n",
      "4/4 [==============================] - 0s 739us/step - loss: 0.3613 - accuracy: 0.9400\n",
      "Epoch 121/150\n",
      "4/4 [==============================] - 0s 773us/step - loss: 0.3584 - accuracy: 0.9400\n",
      "Epoch 122/150\n",
      "4/4 [==============================] - 0s 711us/step - loss: 0.3558 - accuracy: 0.9200\n",
      "Epoch 123/150\n",
      "4/4 [==============================] - 0s 2ms/step - loss: 0.3536 - accuracy: 0.9200\n",
      "Epoch 124/150\n",
      "4/4 [==============================] - 0s 837us/step - loss: 0.3499 - accuracy: 0.9200\n",
      "Epoch 125/150\n",
      "4/4 [==============================] - 0s 733us/step - loss: 0.3461 - accuracy: 0.9400\n",
      "Epoch 126/150\n",
      "4/4 [==============================] - 0s 689us/step - loss: 0.3409 - accuracy: 0.9500\n",
      "Epoch 127/150\n",
      "4/4 [==============================] - 0s 737us/step - loss: 0.3377 - accuracy: 0.9500\n",
      "Epoch 128/150\n",
      "4/4 [==============================] - 0s 859us/step - loss: 0.3348 - accuracy: 0.9500\n",
      "Epoch 129/150\n",
      "4/4 [==============================] - 0s 755us/step - loss: 0.3315 - accuracy: 0.9500\n",
      "Epoch 130/150\n",
      "4/4 [==============================] - 0s 741us/step - loss: 0.3274 - accuracy: 0.9500\n",
      "Epoch 131/150\n",
      "4/4 [==============================] - 0s 707us/step - loss: 0.3256 - accuracy: 0.9500\n",
      "Epoch 132/150\n",
      "4/4 [==============================] - 0s 766us/step - loss: 0.3227 - accuracy: 0.9500\n",
      "Epoch 133/150\n",
      "4/4 [==============================] - 0s 805us/step - loss: 0.3191 - accuracy: 0.9500\n",
      "Epoch 134/150\n",
      "4/4 [==============================] - 0s 751us/step - loss: 0.3162 - accuracy: 0.9500\n",
      "Epoch 135/150\n",
      "4/4 [==============================] - 0s 797us/step - loss: 0.3132 - accuracy: 0.9400\n",
      "Epoch 136/150\n",
      "4/4 [==============================] - 0s 705us/step - loss: 0.3109 - accuracy: 0.9300\n",
      "Epoch 137/150\n",
      "4/4 [==============================] - 0s 825us/step - loss: 0.3076 - accuracy: 0.9300\n",
      "Epoch 138/150\n",
      "4/4 [==============================] - 0s 694us/step - loss: 0.3030 - accuracy: 0.9400\n",
      "Epoch 139/150\n",
      "4/4 [==============================] - 0s 1ms/step - loss: 0.3002 - accuracy: 0.9400\n",
      "Epoch 140/150\n",
      "4/4 [==============================] - 0s 775us/step - loss: 0.2973 - accuracy: 0.9500\n",
      "Epoch 141/150\n",
      "4/4 [==============================] - 0s 758us/step - loss: 0.2945 - accuracy: 0.9500\n",
      "Epoch 142/150\n",
      "4/4 [==============================] - 0s 734us/step - loss: 0.2918 - accuracy: 0.9500\n",
      "Epoch 143/150\n",
      "4/4 [==============================] - 0s 801us/step - loss: 0.2891 - accuracy: 0.9500\n",
      "Epoch 144/150\n",
      "4/4 [==============================] - 0s 755us/step - loss: 0.2862 - accuracy: 0.9500\n",
      "Epoch 145/150\n",
      "4/4 [==============================] - 0s 752us/step - loss: 0.2832 - accuracy: 0.9500\n",
      "Epoch 146/150\n",
      "4/4 [==============================] - 0s 829us/step - loss: 0.2805 - accuracy: 0.9400\n",
      "Epoch 147/150\n",
      "4/4 [==============================] - 0s 752us/step - loss: 0.2778 - accuracy: 0.9500\n",
      "Epoch 148/150\n",
      "4/4 [==============================] - 0s 841us/step - loss: 0.2766 - accuracy: 0.9400\n",
      "Epoch 149/150\n",
      "4/4 [==============================] - 0s 710us/step - loss: 0.2732 - accuracy: 0.9500\n",
      "Epoch 150/150\n",
      "4/4 [==============================] - 0s 791us/step - loss: 0.2705 - accuracy: 0.9500\n"
     ]
    },
    {
     "data": {
      "text/plain": [
       "<keras.src.callbacks.History at 0x281208590>"
      ]
     },
     "execution_count": 28,
     "metadata": {},
     "output_type": "execute_result"
    }
   ],
   "source": [
    "model.fit(s_X_train, y_train, epochs=150, verbose=1)"
   ]
  },
  {
   "cell_type": "code",
   "execution_count": 29,
   "id": "1dc3c0de",
   "metadata": {},
   "outputs": [
    {
     "name": "stdout",
     "output_type": "stream",
     "text": [
      "2/2 [==============================] - 0s 1ms/step\n"
     ]
    },
    {
     "data": {
      "text/plain": [
       "array([[4.1280087e-02, 6.5303826e-01, 3.0568165e-01],\n",
       "       [9.6136481e-01, 3.6492605e-02, 2.1425351e-03],\n",
       "       [7.3743827e-04, 3.8763721e-02, 9.6049887e-01],\n",
       "       [3.5499752e-02, 6.2990171e-01, 3.3459845e-01],\n",
       "       [2.0366699e-02, 4.5290050e-01, 5.2673274e-01],\n",
       "       [9.3103135e-01, 6.4542644e-02, 4.4260602e-03],\n",
       "       [1.2352200e-01, 7.4009866e-01, 1.3637936e-01],\n",
       "       [3.8533246e-03, 1.6751684e-01, 8.2862979e-01],\n",
       "       [9.1620339e-03, 2.0462327e-01, 7.8621477e-01],\n",
       "       [7.4551687e-02, 7.2941333e-01, 1.9603495e-01],\n",
       "       [1.2113084e-02, 3.8053665e-01, 6.0735029e-01],\n",
       "       [9.4040370e-01, 5.4999694e-02, 4.5966916e-03],\n",
       "       [9.6360874e-01, 3.4159482e-02, 2.2318768e-03],\n",
       "       [9.4348031e-01, 5.2303407e-02, 4.2162868e-03],\n",
       "       [9.7366649e-01, 2.4898812e-02, 1.4347603e-03],\n",
       "       [4.4012655e-02, 7.3333967e-01, 2.2264770e-01],\n",
       "       [2.8167646e-03, 1.2060162e-01, 8.7658161e-01],\n",
       "       [6.8238996e-02, 7.1954632e-01, 2.1221462e-01],\n",
       "       [4.8532959e-02, 6.9716614e-01, 2.5430086e-01],\n",
       "       [2.9150150e-03, 1.1686277e-01, 8.8022226e-01],\n",
       "       [9.4277793e-01, 5.3124376e-02, 4.0976759e-03],\n",
       "       [1.8076513e-02, 4.4759178e-01, 5.3433168e-01],\n",
       "       [9.3541384e-01, 6.0403109e-02, 4.1830484e-03],\n",
       "       [3.2423236e-03, 1.2487035e-01, 8.7188727e-01],\n",
       "       [5.9256251e-03, 3.0320105e-01, 6.9087332e-01],\n",
       "       [3.1627736e-03, 1.3488509e-01, 8.6195213e-01],\n",
       "       [3.1031221e-03, 1.0417347e-01, 8.9272344e-01],\n",
       "       [2.4405909e-03, 1.1561775e-01, 8.8194174e-01],\n",
       "       [9.1607201e-01, 7.7551797e-02, 6.3761761e-03],\n",
       "       [9.2994738e-01, 6.4819917e-02, 5.2327150e-03],\n",
       "       [9.7883999e-01, 2.0060586e-02, 1.0994017e-03],\n",
       "       [9.8589629e-01, 1.3518300e-02, 5.8535521e-04],\n",
       "       [4.9080081e-02, 7.0865750e-01, 2.4226236e-01],\n",
       "       [9.5764750e-01, 3.9566755e-02, 2.7857253e-03],\n",
       "       [9.5954543e-01, 3.7633218e-02, 2.8213596e-03],\n",
       "       [4.7418727e-03, 1.4709750e-01, 8.4816062e-01],\n",
       "       [5.0491761e-02, 7.3078138e-01, 2.1872686e-01],\n",
       "       [9.6177709e-01, 3.5835840e-02, 2.3870340e-03],\n",
       "       [9.7240585e-01, 2.5957642e-02, 1.6364864e-03],\n",
       "       [9.8498440e-01, 1.4375261e-02, 6.4031011e-04],\n",
       "       [8.4672756e-03, 2.4457861e-01, 7.4695414e-01],\n",
       "       [7.0675425e-02, 7.6806593e-01, 1.6125862e-01],\n",
       "       [3.1881530e-02, 6.3251758e-01, 3.3560091e-01],\n",
       "       [9.7474843e-01, 2.3967782e-02, 1.2837624e-03],\n",
       "       [9.7076607e-01, 2.7558492e-02, 1.6754507e-03],\n",
       "       [8.4693469e-02, 7.2080541e-01, 1.9450110e-01],\n",
       "       [1.7590458e-02, 4.0212587e-01, 5.8028364e-01],\n",
       "       [1.1518800e-02, 3.4112611e-01, 6.4735508e-01],\n",
       "       [4.2550206e-02, 6.8607581e-01, 2.7137396e-01],\n",
       "       [2.3645302e-03, 1.4219356e-01, 8.5544193e-01]], dtype=float32)"
      ]
     },
     "execution_count": 29,
     "metadata": {},
     "output_type": "execute_result"
    }
   ],
   "source": [
    "# Evaluate model performance...\n",
    "# Would need to scale x test data, model is only trained on scaled versions...\n",
    "model.predict(s_X_test) # raw probavilities."
   ]
  },
  {
   "cell_type": "code",
   "execution_count": 31,
   "id": "7848daff",
   "metadata": {},
   "outputs": [
    {
     "name": "stdout",
     "output_type": "stream",
     "text": [
      "2/2 [==============================] - 0s 1ms/step\n"
     ]
    },
    {
     "data": {
      "text/plain": [
       "array([1, 0, 2, 1, 2, 0, 1, 2, 2, 1, 2, 0, 0, 0, 0, 1, 2, 1, 1, 2, 0, 2,\n",
       "       0, 2, 2, 2, 2, 2, 0, 0, 0, 0, 1, 0, 0, 2, 1, 0, 0, 0, 2, 1, 1, 0,\n",
       "       0, 1, 2, 2, 1, 2])"
      ]
     },
     "execution_count": 31,
     "metadata": {},
     "output_type": "execute_result"
    }
   ],
   "source": [
    "np.argmax(model.predict(s_X_test),axis=1)  # for classes."
   ]
  },
  {
   "cell_type": "code",
   "execution_count": 32,
   "id": "2ac23d8a",
   "metadata": {},
   "outputs": [
    {
     "name": "stdout",
     "output_type": "stream",
     "text": [
      "2/2 [==============================] - 0s 1ms/step\n"
     ]
    }
   ],
   "source": [
    "# Compare predictions to y_test\n",
    "predictions = np.argmax(model.predict(s_X_test),axis=1)"
   ]
  },
  {
   "cell_type": "code",
   "execution_count": 35,
   "id": "942ad5b1",
   "metadata": {},
   "outputs": [],
   "source": [
    "t_y_test = y_test.argmax(axis=1) # reports back the actual classes"
   ]
  },
  {
   "cell_type": "code",
   "execution_count": 36,
   "id": "30d29db3",
   "metadata": {},
   "outputs": [],
   "source": [
    "from sklearn.metrics import confusion_matrix, classification_report, accuracy_score"
   ]
  },
  {
   "cell_type": "code",
   "execution_count": 37,
   "id": "e3e79188",
   "metadata": {},
   "outputs": [
    {
     "name": "stdout",
     "output_type": "stream",
     "text": [
      "              precision    recall  f1-score   support\n",
      "\n",
      "           0       1.00      1.00      1.00        19\n",
      "           1       1.00      0.87      0.93        15\n",
      "           2       0.89      1.00      0.94        16\n",
      "\n",
      "    accuracy                           0.96        50\n",
      "   macro avg       0.96      0.96      0.96        50\n",
      "weighted avg       0.96      0.96      0.96        50\n",
      "\n"
     ]
    }
   ],
   "source": [
    "print(classification_report(t_y_test, predictions))"
   ]
  },
  {
   "cell_type": "code",
   "execution_count": 38,
   "id": "62af8fc1",
   "metadata": {},
   "outputs": [
    {
     "name": "stdout",
     "output_type": "stream",
     "text": [
      "[[19  0  0]\n",
      " [ 0 13  2]\n",
      " [ 0  0 16]]\n"
     ]
    }
   ],
   "source": [
    "print(confusion_matrix(t_y_test, predictions))"
   ]
  },
  {
   "cell_type": "code",
   "execution_count": 43,
   "id": "14e1b416",
   "metadata": {},
   "outputs": [],
   "source": [
    "# Save and load model.\n",
    "model.save('myfirstmodel.keras')"
   ]
  },
  {
   "cell_type": "code",
   "execution_count": 41,
   "id": "7b8e3cb4",
   "metadata": {},
   "outputs": [],
   "source": [
    "# Load the model.\n",
    "from keras.models import load_model"
   ]
  },
  {
   "cell_type": "code",
   "execution_count": 44,
   "id": "7214e2a9",
   "metadata": {},
   "outputs": [
    {
     "ename": "AttributeError",
     "evalue": "'Adam' object has no attribute 'build'",
     "output_type": "error",
     "traceback": [
      "\u001b[0;31m---------------------------------------------------------------------------\u001b[0m",
      "\u001b[0;31mAttributeError\u001b[0m                            Traceback (most recent call last)",
      "Cell \u001b[0;32mIn[44], line 1\u001b[0m\n\u001b[0;32m----> 1\u001b[0m new_model \u001b[38;5;241m=\u001b[39m load_model(\u001b[38;5;124m'\u001b[39m\u001b[38;5;124mmyfirstmodel.keras\u001b[39m\u001b[38;5;124m'\u001b[39m)\n",
      "File \u001b[0;32m~/anaconda3/lib/python3.11/site-packages/keras/src/saving/saving_api.py:230\u001b[0m, in \u001b[0;36mload_model\u001b[0;34m(filepath, custom_objects, compile, safe_mode, **kwargs)\u001b[0m\n\u001b[1;32m    225\u001b[0m     \u001b[38;5;28;01mif\u001b[39;00m kwargs:\n\u001b[1;32m    226\u001b[0m         \u001b[38;5;28;01mraise\u001b[39;00m \u001b[38;5;167;01mValueError\u001b[39;00m(\n\u001b[1;32m    227\u001b[0m             \u001b[38;5;124m\"\u001b[39m\u001b[38;5;124mThe following argument(s) are not supported \u001b[39m\u001b[38;5;124m\"\u001b[39m\n\u001b[1;32m    228\u001b[0m             \u001b[38;5;124mf\u001b[39m\u001b[38;5;124m\"\u001b[39m\u001b[38;5;124mwith the native Keras format: \u001b[39m\u001b[38;5;132;01m{\u001b[39;00m\u001b[38;5;28mlist\u001b[39m(kwargs\u001b[38;5;241m.\u001b[39mkeys())\u001b[38;5;132;01m}\u001b[39;00m\u001b[38;5;124m\"\u001b[39m\n\u001b[1;32m    229\u001b[0m         )\n\u001b[0;32m--> 230\u001b[0m     \u001b[38;5;28;01mreturn\u001b[39;00m saving_lib\u001b[38;5;241m.\u001b[39mload_model(\n\u001b[1;32m    231\u001b[0m         filepath,\n\u001b[1;32m    232\u001b[0m         custom_objects\u001b[38;5;241m=\u001b[39mcustom_objects,\n\u001b[1;32m    233\u001b[0m         \u001b[38;5;28mcompile\u001b[39m\u001b[38;5;241m=\u001b[39m\u001b[38;5;28mcompile\u001b[39m,\n\u001b[1;32m    234\u001b[0m         safe_mode\u001b[38;5;241m=\u001b[39msafe_mode,\n\u001b[1;32m    235\u001b[0m     )\n\u001b[1;32m    237\u001b[0m \u001b[38;5;66;03m# Legacy case.\u001b[39;00m\n\u001b[1;32m    238\u001b[0m \u001b[38;5;28;01mreturn\u001b[39;00m legacy_sm_saving_lib\u001b[38;5;241m.\u001b[39mload_model(\n\u001b[1;32m    239\u001b[0m     filepath, custom_objects\u001b[38;5;241m=\u001b[39mcustom_objects, \u001b[38;5;28mcompile\u001b[39m\u001b[38;5;241m=\u001b[39m\u001b[38;5;28mcompile\u001b[39m, \u001b[38;5;241m*\u001b[39m\u001b[38;5;241m*\u001b[39mkwargs\n\u001b[1;32m    240\u001b[0m )\n",
      "File \u001b[0;32m~/anaconda3/lib/python3.11/site-packages/keras/src/saving/saving_lib.py:275\u001b[0m, in \u001b[0;36mload_model\u001b[0;34m(filepath, custom_objects, compile, safe_mode)\u001b[0m\n\u001b[1;32m    272\u001b[0m             asset_store\u001b[38;5;241m.\u001b[39mclose()\n\u001b[1;32m    274\u001b[0m \u001b[38;5;28;01mexcept\u001b[39;00m \u001b[38;5;167;01mException\u001b[39;00m \u001b[38;5;28;01mas\u001b[39;00m e:\n\u001b[0;32m--> 275\u001b[0m     \u001b[38;5;28;01mraise\u001b[39;00m e\n\u001b[1;32m    276\u001b[0m \u001b[38;5;28;01melse\u001b[39;00m:\n\u001b[1;32m    277\u001b[0m     \u001b[38;5;28;01mreturn\u001b[39;00m model\n",
      "File \u001b[0;32m~/anaconda3/lib/python3.11/site-packages/keras/src/saving/saving_lib.py:240\u001b[0m, in \u001b[0;36mload_model\u001b[0;34m(filepath, custom_objects, compile, safe_mode)\u001b[0m\n\u001b[1;32m    238\u001b[0m \u001b[38;5;66;03m# Construct the model from the configuration file in the archive.\u001b[39;00m\n\u001b[1;32m    239\u001b[0m \u001b[38;5;28;01mwith\u001b[39;00m ObjectSharingScope():\n\u001b[0;32m--> 240\u001b[0m     model \u001b[38;5;241m=\u001b[39m deserialize_keras_object(\n\u001b[1;32m    241\u001b[0m         config_dict, custom_objects, safe_mode\u001b[38;5;241m=\u001b[39msafe_mode\n\u001b[1;32m    242\u001b[0m     )\n\u001b[1;32m    244\u001b[0m all_filenames \u001b[38;5;241m=\u001b[39m zf\u001b[38;5;241m.\u001b[39mnamelist()\n\u001b[1;32m    245\u001b[0m \u001b[38;5;28;01mif\u001b[39;00m _VARS_FNAME \u001b[38;5;241m+\u001b[39m \u001b[38;5;124m\"\u001b[39m\u001b[38;5;124m.h5\u001b[39m\u001b[38;5;124m\"\u001b[39m \u001b[38;5;129;01min\u001b[39;00m all_filenames:\n",
      "File \u001b[0;32m~/anaconda3/lib/python3.11/site-packages/keras/src/saving/serialization_lib.py:710\u001b[0m, in \u001b[0;36mdeserialize_keras_object\u001b[0;34m(config, custom_objects, safe_mode, **kwargs)\u001b[0m\n\u001b[1;32m    708\u001b[0m     compile_config \u001b[38;5;241m=\u001b[39m config\u001b[38;5;241m.\u001b[39mget(\u001b[38;5;124m\"\u001b[39m\u001b[38;5;124mcompile_config\u001b[39m\u001b[38;5;124m\"\u001b[39m, \u001b[38;5;28;01mNone\u001b[39;00m)\n\u001b[1;32m    709\u001b[0m     \u001b[38;5;28;01mif\u001b[39;00m compile_config:\n\u001b[0;32m--> 710\u001b[0m         instance\u001b[38;5;241m.\u001b[39mcompile_from_config(compile_config)\n\u001b[1;32m    712\u001b[0m \u001b[38;5;28;01mif\u001b[39;00m \u001b[38;5;124m\"\u001b[39m\u001b[38;5;124mshared_object_id\u001b[39m\u001b[38;5;124m\"\u001b[39m \u001b[38;5;129;01min\u001b[39;00m config:\n\u001b[1;32m    713\u001b[0m     record_object_after_deserialization(\n\u001b[1;32m    714\u001b[0m         instance, config[\u001b[38;5;124m\"\u001b[39m\u001b[38;5;124mshared_object_id\u001b[39m\u001b[38;5;124m\"\u001b[39m]\n\u001b[1;32m    715\u001b[0m     )\n",
      "File \u001b[0;32m~/anaconda3/lib/python3.11/site-packages/keras/src/engine/training.py:3582\u001b[0m, in \u001b[0;36mModel.compile_from_config\u001b[0;34m(self, config)\u001b[0m\n\u001b[1;32m   3579\u001b[0m \u001b[38;5;28mself\u001b[39m\u001b[38;5;241m.\u001b[39mcompile(\u001b[38;5;241m*\u001b[39m\u001b[38;5;241m*\u001b[39mconfig)\n\u001b[1;32m   3580\u001b[0m \u001b[38;5;28;01mif\u001b[39;00m \u001b[38;5;28mhasattr\u001b[39m(\u001b[38;5;28mself\u001b[39m, \u001b[38;5;124m\"\u001b[39m\u001b[38;5;124moptimizer\u001b[39m\u001b[38;5;124m\"\u001b[39m) \u001b[38;5;129;01mand\u001b[39;00m \u001b[38;5;28mself\u001b[39m\u001b[38;5;241m.\u001b[39mbuilt:\n\u001b[1;32m   3581\u001b[0m     \u001b[38;5;66;03m# Create optimizer variables.\u001b[39;00m\n\u001b[0;32m-> 3582\u001b[0m     \u001b[38;5;28mself\u001b[39m\u001b[38;5;241m.\u001b[39moptimizer\u001b[38;5;241m.\u001b[39mbuild(\u001b[38;5;28mself\u001b[39m\u001b[38;5;241m.\u001b[39mtrainable_variables)\n",
      "File \u001b[0;32m~/anaconda3/lib/python3.11/site-packages/keras/src/optimizers/legacy/optimizer_v2.py:997\u001b[0m, in \u001b[0;36mOptimizerV2.__getattribute__\u001b[0;34m(self, name)\u001b[0m\n\u001b[1;32m    995\u001b[0m \u001b[38;5;28;01mif\u001b[39;00m name \u001b[38;5;129;01min\u001b[39;00m \u001b[38;5;28mself\u001b[39m\u001b[38;5;241m.\u001b[39m_hyper:\n\u001b[1;32m    996\u001b[0m     \u001b[38;5;28;01mreturn\u001b[39;00m \u001b[38;5;28mself\u001b[39m\u001b[38;5;241m.\u001b[39m_get_hyper(name)\n\u001b[0;32m--> 997\u001b[0m \u001b[38;5;28;01mraise\u001b[39;00m e\n",
      "File \u001b[0;32m~/anaconda3/lib/python3.11/site-packages/keras/src/optimizers/legacy/optimizer_v2.py:987\u001b[0m, in \u001b[0;36mOptimizerV2.__getattribute__\u001b[0;34m(self, name)\u001b[0m\n\u001b[1;32m    985\u001b[0m \u001b[38;5;250m\u001b[39m\u001b[38;5;124;03m\"\"\"Overridden to support hyperparameter access.\"\"\"\u001b[39;00m\n\u001b[1;32m    986\u001b[0m \u001b[38;5;28;01mtry\u001b[39;00m:\n\u001b[0;32m--> 987\u001b[0m     \u001b[38;5;28;01mreturn\u001b[39;00m \u001b[38;5;28msuper\u001b[39m()\u001b[38;5;241m.\u001b[39m\u001b[38;5;21m__getattribute__\u001b[39m(name)\n\u001b[1;32m    988\u001b[0m \u001b[38;5;28;01mexcept\u001b[39;00m \u001b[38;5;167;01mAttributeError\u001b[39;00m \u001b[38;5;28;01mas\u001b[39;00m e:\n\u001b[1;32m    989\u001b[0m     \u001b[38;5;66;03m# Needed to avoid infinite recursion with __setattr__.\u001b[39;00m\n\u001b[1;32m    990\u001b[0m     \u001b[38;5;28;01mif\u001b[39;00m name \u001b[38;5;241m==\u001b[39m \u001b[38;5;124m\"\u001b[39m\u001b[38;5;124m_hyper\u001b[39m\u001b[38;5;124m\"\u001b[39m:\n",
      "\u001b[0;31mAttributeError\u001b[0m: 'Adam' object has no attribute 'build'"
     ]
    }
   ],
   "source": [
    "new_model = load_model('myfirstmodel.keras')"
   ]
  },
  {
   "cell_type": "code",
   "execution_count": null,
   "id": "88f1e4e0",
   "metadata": {},
   "outputs": [],
   "source": []
  }
 ],
 "metadata": {
  "kernelspec": {
   "display_name": "Python 3 (ipykernel)",
   "language": "python",
   "name": "python3"
  },
  "language_info": {
   "codemirror_mode": {
    "name": "ipython",
    "version": 3
   },
   "file_extension": ".py",
   "mimetype": "text/x-python",
   "name": "python",
   "nbconvert_exporter": "python",
   "pygments_lexer": "ipython3",
   "version": "3.11.3"
  }
 },
 "nbformat": 4,
 "nbformat_minor": 5
}
