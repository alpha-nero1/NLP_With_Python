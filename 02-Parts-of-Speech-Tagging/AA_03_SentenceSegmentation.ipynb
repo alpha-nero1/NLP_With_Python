{
 "cells": [
  {
   "cell_type": "code",
   "execution_count": 1,
   "id": "f9d04a95",
   "metadata": {},
   "outputs": [],
   "source": [
    "import spacy"
   ]
  },
  {
   "cell_type": "code",
   "execution_count": 2,
   "id": "30a11f47",
   "metadata": {},
   "outputs": [],
   "source": [
    "nlp = spacy.load('en_core_web_sm')"
   ]
  },
  {
   "cell_type": "code",
   "execution_count": 3,
   "id": "d5435600",
   "metadata": {},
   "outputs": [],
   "source": [
    "doc = nlp(u'This is a sentence, This is another one! And this is another!')"
   ]
  },
  {
   "cell_type": "code",
   "execution_count": 5,
   "id": "671c24ad",
   "metadata": {},
   "outputs": [
    {
     "name": "stdout",
     "output_type": "stream",
     "text": [
      "This is a sentence, This is another one!\n",
      "And this is another!\n"
     ]
    }
   ],
   "source": [
    "for sent in doc.sents:\n",
    "    print(sent) # Sent is a generator and not subscriptable!"
   ]
  },
  {
   "cell_type": "code",
   "execution_count": 6,
   "id": "dcfea2b1",
   "metadata": {},
   "outputs": [
    {
     "ename": "TypeError",
     "evalue": "'generator' object is not subscriptable",
     "output_type": "error",
     "traceback": [
      "\u001b[0;31m---------------------------------------------------------------------------\u001b[0m",
      "\u001b[0;31mTypeError\u001b[0m                                 Traceback (most recent call last)",
      "Cell \u001b[0;32mIn[6], line 1\u001b[0m\n\u001b[0;32m----> 1\u001b[0m doc\u001b[38;5;241m.\u001b[39msents[\u001b[38;5;241m0\u001b[39m]\n",
      "\u001b[0;31mTypeError\u001b[0m: 'generator' object is not subscriptable"
     ]
    }
   ],
   "source": [
    "doc.sents[0]"
   ]
  },
  {
   "cell_type": "code",
   "execution_count": 7,
   "id": "99d05507",
   "metadata": {},
   "outputs": [],
   "source": [
    "sents = list(doc.sents)"
   ]
  },
  {
   "cell_type": "code",
   "execution_count": 8,
   "id": "99e3473a",
   "metadata": {},
   "outputs": [
    {
     "data": {
      "text/plain": [
       "list"
      ]
     },
     "execution_count": 8,
     "metadata": {},
     "output_type": "execute_result"
    }
   ],
   "source": [
    "type(sents)"
   ]
  },
  {
   "cell_type": "code",
   "execution_count": 9,
   "id": "04bd7f63",
   "metadata": {},
   "outputs": [],
   "source": [
    "# Maybe we want to segment off a semi-colon."
   ]
  },
  {
   "cell_type": "code",
   "execution_count": 10,
   "id": "8ed8028b",
   "metadata": {},
   "outputs": [],
   "source": [
    "doc = nlp(u'\"Management is doing the right thing; leadership is doing the right things\", - Peter Park')"
   ]
  },
  {
   "cell_type": "code",
   "execution_count": 11,
   "id": "f09c006f",
   "metadata": {},
   "outputs": [
    {
     "data": {
      "text/plain": [
       "'\"Management is doing the right thing; leadership is doing the right things\", - Peter Park'"
      ]
     },
     "execution_count": 11,
     "metadata": {},
     "output_type": "execute_result"
    }
   ],
   "source": [
    "doc.text"
   ]
  },
  {
   "cell_type": "code",
   "execution_count": 14,
   "id": "502ef3b4",
   "metadata": {},
   "outputs": [
    {
     "name": "stdout",
     "output_type": "stream",
     "text": [
      "\"Management is doing the right thing; leadership is doing the right things\", - Peter Park\n"
     ]
    }
   ],
   "source": [
    "for sent in doc.sents: print(sent)"
   ]
  },
  {
   "cell_type": "code",
   "execution_count": 24,
   "id": "955ecaea",
   "metadata": {},
   "outputs": [],
   "source": [
    "# Add a segmentation rule.\n",
    "@Language.component(\"custom_boundary\")\n",
    "def set_custom_boundaries(doc):\n",
    "    # tokens retain their index pos\n",
    "    for token in doc[:-1]: # not including the last one.\n",
    "        if token.text == ';':\n",
    "            # is_sent_srart = True!!\n",
    "            doc[token.i + 1].is_sent_start = True\n",
    "            \n",
    "    return doc"
   ]
  },
  {
   "cell_type": "code",
   "execution_count": 23,
   "id": "9e92ecfd",
   "metadata": {},
   "outputs": [],
   "source": [
    "from spacy.language import Language"
   ]
  },
  {
   "cell_type": "code",
   "execution_count": 25,
   "id": "639ed4c3",
   "metadata": {},
   "outputs": [
    {
     "data": {
      "text/plain": [
       "['tok2vec',\n",
       " 'tagger',\n",
       " 'custom_boundary',\n",
       " 'parser',\n",
       " 'attribute_ruler',\n",
       " 'lemmatizer',\n",
       " 'ner']"
      ]
     },
     "execution_count": 25,
     "metadata": {},
     "output_type": "execute_result"
    }
   ],
   "source": [
    "nlp.add_pipe('custom_boundary', before='parser')\n",
    "nlp.pipe_names"
   ]
  },
  {
   "cell_type": "code",
   "execution_count": 26,
   "id": "5559601b",
   "metadata": {},
   "outputs": [],
   "source": [
    "doc4 = nlp(u'\"Management is doing the right thing; leadership is doing the right things\", - Peter Park')"
   ]
  },
  {
   "cell_type": "code",
   "execution_count": 28,
   "id": "0a1799e1",
   "metadata": {},
   "outputs": [
    {
     "name": "stdout",
     "output_type": "stream",
     "text": [
      "\"Management is doing the right thing;\n",
      "leadership is doing the right things\", - Peter Park\n"
     ]
    }
   ],
   "source": [
    "for sent in doc4.sents:\n",
    "    print(sent) # Now seperates on semi-colon!"
   ]
  },
  {
   "cell_type": "code",
   "execution_count": 29,
   "id": "b6b47e5f",
   "metadata": {},
   "outputs": [],
   "source": [
    "# Sometimes we want our own rules completely"
   ]
  },
  {
   "cell_type": "code",
   "execution_count": 30,
   "id": "e506f62f",
   "metadata": {},
   "outputs": [],
   "source": [
    "nlp = spacy.load('en_core_web_sm') # Reset!"
   ]
  },
  {
   "cell_type": "code",
   "execution_count": 35,
   "id": "59a99e29",
   "metadata": {},
   "outputs": [],
   "source": [
    "t_string = u'This is a sentence. This be another.\\nThis is antoher one here!\\nThis is another mate!'"
   ]
  },
  {
   "cell_type": "code",
   "execution_count": 36,
   "id": "d89beddb",
   "metadata": {},
   "outputs": [
    {
     "name": "stdout",
     "output_type": "stream",
     "text": [
      "This is a sentence. This be another.\n",
      "This is antoher one here!\n",
      "This is another mate!\n"
     ]
    }
   ],
   "source": [
    "print(t_string)"
   ]
  },
  {
   "cell_type": "code",
   "execution_count": 37,
   "id": "caef655d",
   "metadata": {},
   "outputs": [],
   "source": [
    "doc = nlp(t_string)"
   ]
  },
  {
   "cell_type": "code",
   "execution_count": 38,
   "id": "a2fb3a08",
   "metadata": {},
   "outputs": [
    {
     "name": "stdout",
     "output_type": "stream",
     "text": [
      "This is a sentence.\n",
      "This be another.\n",
      "\n",
      "This is antoher one here!\n",
      "\n",
      "This is another mate!\n"
     ]
    }
   ],
   "source": [
    "for sent in doc.sents: print(sent)"
   ]
  },
  {
   "cell_type": "code",
   "execution_count": 40,
   "id": "69be34ea",
   "metadata": {},
   "outputs": [
    {
     "ename": "ImportError",
     "evalue": "cannot import name 'SentenceSegmenter' from 'spacy.pipeline' (/Users/alessandroalberga/anaconda3/lib/python3.11/site-packages/spacy/pipeline/__init__.py)",
     "output_type": "error",
     "traceback": [
      "\u001b[0;31m---------------------------------------------------------------------------\u001b[0m",
      "\u001b[0;31mImportError\u001b[0m                               Traceback (most recent call last)",
      "Cell \u001b[0;32mIn[40], line 2\u001b[0m\n\u001b[1;32m      1\u001b[0m \u001b[38;5;66;03m# Change le rules\u001b[39;00m\n\u001b[0;32m----> 2\u001b[0m \u001b[38;5;28;01mfrom\u001b[39;00m \u001b[38;5;21;01mspacy\u001b[39;00m\u001b[38;5;21;01m.\u001b[39;00m\u001b[38;5;21;01mpipeline\u001b[39;00m \u001b[38;5;28;01mimport\u001b[39;00m SentenceSegmenter\n",
      "\u001b[0;31mImportError\u001b[0m: cannot import name 'SentenceSegmenter' from 'spacy.pipeline' (/Users/alessandroalberga/anaconda3/lib/python3.11/site-packages/spacy/pipeline/__init__.py)"
     ]
    }
   ],
   "source": [
    "# Change le rules\n",
    "from spacy.pipeline import SentenceSegmenter"
   ]
  },
  {
   "cell_type": "code",
   "execution_count": null,
   "id": "0a507c89",
   "metadata": {},
   "outputs": [],
   "source": []
  }
 ],
 "metadata": {
  "kernelspec": {
   "display_name": "Python 3 (ipykernel)",
   "language": "python",
   "name": "python3"
  },
  "language_info": {
   "codemirror_mode": {
    "name": "ipython",
    "version": 3
   },
   "file_extension": ".py",
   "mimetype": "text/x-python",
   "name": "python",
   "nbconvert_exporter": "python",
   "pygments_lexer": "ipython3",
   "version": "3.11.3"
  }
 },
 "nbformat": 4,
 "nbformat_minor": 5
}
